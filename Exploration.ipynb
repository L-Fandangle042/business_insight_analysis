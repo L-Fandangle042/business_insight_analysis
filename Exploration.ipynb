{
 "cells": [
  {
   "cell_type": "markdown",
   "id": "360577b7-0239-430e-b57a-251cdbba600b",
   "metadata": {},
   "source": [
    "# Data Cleaning and Analysis"
   ]
  },
  {
   "cell_type": "markdown",
   "id": "9e291762-3703-4ba4-b9c5-80f28e552fac",
   "metadata": {},
   "source": [
    "## Imports"
   ]
  },
  {
   "cell_type": "code",
   "execution_count": 1,
   "id": "dc742b7c-ed0b-404d-84e6-eb21be5a7845",
   "metadata": {},
   "outputs": [],
   "source": [
    "import pandas as pd\n",
    "import numpy as np\n",
    "import plotly.express as px\n",
    "import matplotlib.pyplot as plt\n",
    "from datetime import datetime"
   ]
  },
  {
   "cell_type": "markdown",
   "id": "a780b96a-a681-42f2-8bb9-662c71c54540",
   "metadata": {},
   "source": [
    "## Read/Import Data"
   ]
  },
  {
   "cell_type": "code",
   "execution_count": 2,
   "id": "810b3723-b6e4-48b4-bcfe-5a3cd36d8d43",
   "metadata": {},
   "outputs": [
    {
     "data": {
      "text/html": [
       "<div>\n",
       "<style scoped>\n",
       "    .dataframe tbody tr th:only-of-type {\n",
       "        vertical-align: middle;\n",
       "    }\n",
       "\n",
       "    .dataframe tbody tr th {\n",
       "        vertical-align: top;\n",
       "    }\n",
       "\n",
       "    .dataframe thead th {\n",
       "        text-align: right;\n",
       "    }\n",
       "</style>\n",
       "<table border=\"1\" class=\"dataframe\">\n",
       "  <thead>\n",
       "    <tr style=\"text-align: right;\">\n",
       "      <th></th>\n",
       "      <th>Region</th>\n",
       "      <th>Country</th>\n",
       "      <th>First Closed Won Opp Date</th>\n",
       "      <th>Account ID</th>\n",
       "      <th>CSM Status Stage</th>\n",
       "      <th>Activation Date</th>\n",
       "      <th>Highest Product</th>\n",
       "      <th>Last Product usage date</th>\n",
       "      <th># delivery partners</th>\n",
       "    </tr>\n",
       "  </thead>\n",
       "  <tbody>\n",
       "    <tr>\n",
       "      <th>0</th>\n",
       "      <td>Region A</td>\n",
       "      <td>Country 1</td>\n",
       "      <td>9/22/2021</td>\n",
       "      <td>0012E00002b5a1J</td>\n",
       "      <td>Active</td>\n",
       "      <td>28-Sep-2021</td>\n",
       "      <td>NaN</td>\n",
       "      <td>1/13/2022 8:44 AM</td>\n",
       "      <td>2.0</td>\n",
       "    </tr>\n",
       "    <tr>\n",
       "      <th>1</th>\n",
       "      <td>Region A</td>\n",
       "      <td>Country 8</td>\n",
       "      <td>9/16/2021</td>\n",
       "      <td>0012E00002b5Zvf</td>\n",
       "      <td>Active</td>\n",
       "      <td>4-Oct-2021</td>\n",
       "      <td>NaN</td>\n",
       "      <td>1/13/2022 1:26 PM</td>\n",
       "      <td>4.0</td>\n",
       "    </tr>\n",
       "    <tr>\n",
       "      <th>2</th>\n",
       "      <td>Region C</td>\n",
       "      <td>Country 16</td>\n",
       "      <td>10/1/2021</td>\n",
       "      <td>0012E00002b8A7b</td>\n",
       "      <td>Active</td>\n",
       "      <td>1-Oct-2021</td>\n",
       "      <td>NaN</td>\n",
       "      <td>NaN</td>\n",
       "      <td>1.0</td>\n",
       "    </tr>\n",
       "    <tr>\n",
       "      <th>3</th>\n",
       "      <td>Region C</td>\n",
       "      <td>Country 16</td>\n",
       "      <td>10/1/2021</td>\n",
       "      <td>0012E00002b8Ail</td>\n",
       "      <td>Active</td>\n",
       "      <td>1-Oct-2021</td>\n",
       "      <td>NaN</td>\n",
       "      <td>NaN</td>\n",
       "      <td>1.0</td>\n",
       "    </tr>\n",
       "    <tr>\n",
       "      <th>4</th>\n",
       "      <td>Region C</td>\n",
       "      <td>Country 16</td>\n",
       "      <td>10/1/2021</td>\n",
       "      <td>0012E00002b8AMp</td>\n",
       "      <td>Active</td>\n",
       "      <td>1-Oct-2021</td>\n",
       "      <td>NaN</td>\n",
       "      <td>NaN</td>\n",
       "      <td>1.0</td>\n",
       "    </tr>\n",
       "  </tbody>\n",
       "</table>\n",
       "</div>"
      ],
      "text/plain": [
       "     Region     Country First Closed Won Opp Date       Account ID  \\\n",
       "0  Region A   Country 1                 9/22/2021  0012E00002b5a1J   \n",
       "1  Region A   Country 8                 9/16/2021  0012E00002b5Zvf   \n",
       "2  Region C  Country 16                 10/1/2021  0012E00002b8A7b   \n",
       "3  Region C  Country 16                 10/1/2021  0012E00002b8Ail   \n",
       "4  Region C  Country 16                 10/1/2021  0012E00002b8AMp   \n",
       "\n",
       "  CSM Status Stage Activation Date Highest Product Last Product usage date  \\\n",
       "0           Active     28-Sep-2021             NaN       1/13/2022 8:44 AM   \n",
       "1           Active      4-Oct-2021             NaN       1/13/2022 1:26 PM   \n",
       "2           Active      1-Oct-2021             NaN                     NaN   \n",
       "3           Active      1-Oct-2021             NaN                     NaN   \n",
       "4           Active      1-Oct-2021             NaN                     NaN   \n",
       "\n",
       "   # delivery partners  \n",
       "0                  2.0  \n",
       "1                  4.0  \n",
       "2                  1.0  \n",
       "3                  1.0  \n",
       "4                  1.0  "
      ]
     },
     "execution_count": 2,
     "metadata": {},
     "output_type": "execute_result"
    }
   ],
   "source": [
    "df = pd.read_csv(\"Data/Test_Data.csv\")\n",
    "df.head()"
   ]
  },
  {
   "cell_type": "markdown",
   "id": "4023485f-6e31-4cc6-95ad-740064eebd20",
   "metadata": {},
   "source": [
    "## Initial Exploration"
   ]
  },
  {
   "cell_type": "code",
   "execution_count": 3,
   "id": "6231f15c-aebc-4ce6-9313-8d37d3b4930c",
   "metadata": {},
   "outputs": [
    {
     "name": "stdout",
     "output_type": "stream",
     "text": [
      "From this we can see that there are 38620 rows and 9 columns.\n"
     ]
    }
   ],
   "source": [
    "num_rows = len(df.index)\n",
    "num_columns = df.shape[1]\n",
    "\n",
    "print(f'From this we can see that there are {num_rows} rows and {num_columns} columns.')"
   ]
  },
  {
   "cell_type": "code",
   "execution_count": 4,
   "id": "4da58cf5-eaf3-424e-abd0-7a894cf7388c",
   "metadata": {},
   "outputs": [
    {
     "data": {
      "text/plain": [
       "Region                        object\n",
       "Country                       object\n",
       "First Closed Won Opp Date     object\n",
       "Account ID                    object\n",
       "CSM Status Stage              object\n",
       "Activation Date               object\n",
       "Highest Product               object\n",
       "Last Product usage date       object\n",
       "# delivery partners          float64\n",
       "dtype: object"
      ]
     },
     "execution_count": 4,
     "metadata": {},
     "output_type": "execute_result"
    }
   ],
   "source": [
    "df.dtypes"
   ]
  },
  {
   "cell_type": "markdown",
   "id": "1189d82c-46ab-4aa5-bd50-ac3f2aaf3c30",
   "metadata": {},
   "source": [
    "The data types are mostly object with the exception of the \"# delivery partners\" column.\n",
    "\n",
    "We can also see that there are three columns here that need to be converted to date format."
   ]
  },
  {
   "cell_type": "markdown",
   "id": "6a762c73-238c-41d3-8e59-ef50d481ed3c",
   "metadata": {},
   "source": [
    "## Converting Columns to Appropriate Types"
   ]
  },
  {
   "cell_type": "code",
   "execution_count": 5,
   "id": "93fbeec3-cddc-4d11-8737-4af778a4607e",
   "metadata": {},
   "outputs": [
    {
     "data": {
      "text/html": [
       "<div>\n",
       "<style scoped>\n",
       "    .dataframe tbody tr th:only-of-type {\n",
       "        vertical-align: middle;\n",
       "    }\n",
       "\n",
       "    .dataframe tbody tr th {\n",
       "        vertical-align: top;\n",
       "    }\n",
       "\n",
       "    .dataframe thead th {\n",
       "        text-align: right;\n",
       "    }\n",
       "</style>\n",
       "<table border=\"1\" class=\"dataframe\">\n",
       "  <thead>\n",
       "    <tr style=\"text-align: right;\">\n",
       "      <th></th>\n",
       "      <th>Region</th>\n",
       "      <th>Country</th>\n",
       "      <th>First Closed Won Opp Date</th>\n",
       "      <th>Account ID</th>\n",
       "      <th>CSM Status Stage</th>\n",
       "      <th>Activation Date</th>\n",
       "      <th>Highest Product</th>\n",
       "      <th>Last Product usage date</th>\n",
       "      <th># delivery partners</th>\n",
       "    </tr>\n",
       "  </thead>\n",
       "  <tbody>\n",
       "    <tr>\n",
       "      <th>0</th>\n",
       "      <td>Region A</td>\n",
       "      <td>Country 1</td>\n",
       "      <td>2021-09-22</td>\n",
       "      <td>0012E00002b5a1J</td>\n",
       "      <td>Active</td>\n",
       "      <td>28-Sep-2021</td>\n",
       "      <td>NaN</td>\n",
       "      <td>1/13/2022 8:44 AM</td>\n",
       "      <td>2.0</td>\n",
       "    </tr>\n",
       "    <tr>\n",
       "      <th>1</th>\n",
       "      <td>Region A</td>\n",
       "      <td>Country 8</td>\n",
       "      <td>2021-09-16</td>\n",
       "      <td>0012E00002b5Zvf</td>\n",
       "      <td>Active</td>\n",
       "      <td>4-Oct-2021</td>\n",
       "      <td>NaN</td>\n",
       "      <td>1/13/2022 1:26 PM</td>\n",
       "      <td>4.0</td>\n",
       "    </tr>\n",
       "    <tr>\n",
       "      <th>2</th>\n",
       "      <td>Region C</td>\n",
       "      <td>Country 16</td>\n",
       "      <td>2021-10-01</td>\n",
       "      <td>0012E00002b8A7b</td>\n",
       "      <td>Active</td>\n",
       "      <td>1-Oct-2021</td>\n",
       "      <td>NaN</td>\n",
       "      <td>NaN</td>\n",
       "      <td>1.0</td>\n",
       "    </tr>\n",
       "    <tr>\n",
       "      <th>3</th>\n",
       "      <td>Region C</td>\n",
       "      <td>Country 16</td>\n",
       "      <td>2021-10-01</td>\n",
       "      <td>0012E00002b8Ail</td>\n",
       "      <td>Active</td>\n",
       "      <td>1-Oct-2021</td>\n",
       "      <td>NaN</td>\n",
       "      <td>NaN</td>\n",
       "      <td>1.0</td>\n",
       "    </tr>\n",
       "    <tr>\n",
       "      <th>4</th>\n",
       "      <td>Region C</td>\n",
       "      <td>Country 16</td>\n",
       "      <td>2021-10-01</td>\n",
       "      <td>0012E00002b8AMp</td>\n",
       "      <td>Active</td>\n",
       "      <td>1-Oct-2021</td>\n",
       "      <td>NaN</td>\n",
       "      <td>NaN</td>\n",
       "      <td>1.0</td>\n",
       "    </tr>\n",
       "  </tbody>\n",
       "</table>\n",
       "</div>"
      ],
      "text/plain": [
       "     Region     Country First Closed Won Opp Date       Account ID  \\\n",
       "0  Region A   Country 1                2021-09-22  0012E00002b5a1J   \n",
       "1  Region A   Country 8                2021-09-16  0012E00002b5Zvf   \n",
       "2  Region C  Country 16                2021-10-01  0012E00002b8A7b   \n",
       "3  Region C  Country 16                2021-10-01  0012E00002b8Ail   \n",
       "4  Region C  Country 16                2021-10-01  0012E00002b8AMp   \n",
       "\n",
       "  CSM Status Stage Activation Date Highest Product Last Product usage date  \\\n",
       "0           Active     28-Sep-2021             NaN       1/13/2022 8:44 AM   \n",
       "1           Active      4-Oct-2021             NaN       1/13/2022 1:26 PM   \n",
       "2           Active      1-Oct-2021             NaN                     NaN   \n",
       "3           Active      1-Oct-2021             NaN                     NaN   \n",
       "4           Active      1-Oct-2021             NaN                     NaN   \n",
       "\n",
       "   # delivery partners  \n",
       "0                  2.0  \n",
       "1                  4.0  \n",
       "2                  1.0  \n",
       "3                  1.0  \n",
       "4                  1.0  "
      ]
     },
     "execution_count": 5,
     "metadata": {},
     "output_type": "execute_result"
    }
   ],
   "source": [
    "df[\"First Closed Won Opp Date\"] = pd.to_datetime(df[\"First Closed Won Opp Date\"], format='%m/%d/%Y')\n",
    "\n",
    "df.head()"
   ]
  },
  {
   "cell_type": "code",
   "execution_count": 6,
   "id": "c5caec61-14ab-458f-8a1d-90afc2b08f09",
   "metadata": {},
   "outputs": [
    {
     "data": {
      "text/html": [
       "<div>\n",
       "<style scoped>\n",
       "    .dataframe tbody tr th:only-of-type {\n",
       "        vertical-align: middle;\n",
       "    }\n",
       "\n",
       "    .dataframe tbody tr th {\n",
       "        vertical-align: top;\n",
       "    }\n",
       "\n",
       "    .dataframe thead th {\n",
       "        text-align: right;\n",
       "    }\n",
       "</style>\n",
       "<table border=\"1\" class=\"dataframe\">\n",
       "  <thead>\n",
       "    <tr style=\"text-align: right;\">\n",
       "      <th></th>\n",
       "      <th>Region</th>\n",
       "      <th>Country</th>\n",
       "      <th>First Closed Won Opp Date</th>\n",
       "      <th>Account ID</th>\n",
       "      <th>CSM Status Stage</th>\n",
       "      <th>Activation Date</th>\n",
       "      <th>Highest Product</th>\n",
       "      <th>Last Product usage date</th>\n",
       "      <th># delivery partners</th>\n",
       "    </tr>\n",
       "  </thead>\n",
       "  <tbody>\n",
       "    <tr>\n",
       "      <th>0</th>\n",
       "      <td>Region A</td>\n",
       "      <td>Country 1</td>\n",
       "      <td>2021-09-22</td>\n",
       "      <td>0012E00002b5a1J</td>\n",
       "      <td>Active</td>\n",
       "      <td>2021-09-28</td>\n",
       "      <td>NaN</td>\n",
       "      <td>1/13/2022 8:44 AM</td>\n",
       "      <td>2.0</td>\n",
       "    </tr>\n",
       "    <tr>\n",
       "      <th>1</th>\n",
       "      <td>Region A</td>\n",
       "      <td>Country 8</td>\n",
       "      <td>2021-09-16</td>\n",
       "      <td>0012E00002b5Zvf</td>\n",
       "      <td>Active</td>\n",
       "      <td>2021-10-04</td>\n",
       "      <td>NaN</td>\n",
       "      <td>1/13/2022 1:26 PM</td>\n",
       "      <td>4.0</td>\n",
       "    </tr>\n",
       "    <tr>\n",
       "      <th>2</th>\n",
       "      <td>Region C</td>\n",
       "      <td>Country 16</td>\n",
       "      <td>2021-10-01</td>\n",
       "      <td>0012E00002b8A7b</td>\n",
       "      <td>Active</td>\n",
       "      <td>2021-10-01</td>\n",
       "      <td>NaN</td>\n",
       "      <td>NaN</td>\n",
       "      <td>1.0</td>\n",
       "    </tr>\n",
       "    <tr>\n",
       "      <th>3</th>\n",
       "      <td>Region C</td>\n",
       "      <td>Country 16</td>\n",
       "      <td>2021-10-01</td>\n",
       "      <td>0012E00002b8Ail</td>\n",
       "      <td>Active</td>\n",
       "      <td>2021-10-01</td>\n",
       "      <td>NaN</td>\n",
       "      <td>NaN</td>\n",
       "      <td>1.0</td>\n",
       "    </tr>\n",
       "    <tr>\n",
       "      <th>4</th>\n",
       "      <td>Region C</td>\n",
       "      <td>Country 16</td>\n",
       "      <td>2021-10-01</td>\n",
       "      <td>0012E00002b8AMp</td>\n",
       "      <td>Active</td>\n",
       "      <td>2021-10-01</td>\n",
       "      <td>NaN</td>\n",
       "      <td>NaN</td>\n",
       "      <td>1.0</td>\n",
       "    </tr>\n",
       "  </tbody>\n",
       "</table>\n",
       "</div>"
      ],
      "text/plain": [
       "     Region     Country First Closed Won Opp Date       Account ID  \\\n",
       "0  Region A   Country 1                2021-09-22  0012E00002b5a1J   \n",
       "1  Region A   Country 8                2021-09-16  0012E00002b5Zvf   \n",
       "2  Region C  Country 16                2021-10-01  0012E00002b8A7b   \n",
       "3  Region C  Country 16                2021-10-01  0012E00002b8Ail   \n",
       "4  Region C  Country 16                2021-10-01  0012E00002b8AMp   \n",
       "\n",
       "  CSM Status Stage Activation Date Highest Product Last Product usage date  \\\n",
       "0           Active      2021-09-28             NaN       1/13/2022 8:44 AM   \n",
       "1           Active      2021-10-04             NaN       1/13/2022 1:26 PM   \n",
       "2           Active      2021-10-01             NaN                     NaN   \n",
       "3           Active      2021-10-01             NaN                     NaN   \n",
       "4           Active      2021-10-01             NaN                     NaN   \n",
       "\n",
       "   # delivery partners  \n",
       "0                  2.0  \n",
       "1                  4.0  \n",
       "2                  1.0  \n",
       "3                  1.0  \n",
       "4                  1.0  "
      ]
     },
     "execution_count": 6,
     "metadata": {},
     "output_type": "execute_result"
    }
   ],
   "source": [
    "df[\"Activation Date\"] = pd.to_datetime(df[\"Activation Date\"], format='mixed')\n",
    "\n",
    "df.head()"
   ]
  },
  {
   "cell_type": "code",
   "execution_count": 7,
   "id": "b2b1a2a9-fc45-4e96-ad6c-5dead3d49fd8",
   "metadata": {},
   "outputs": [
    {
     "data": {
      "text/html": [
       "<div>\n",
       "<style scoped>\n",
       "    .dataframe tbody tr th:only-of-type {\n",
       "        vertical-align: middle;\n",
       "    }\n",
       "\n",
       "    .dataframe tbody tr th {\n",
       "        vertical-align: top;\n",
       "    }\n",
       "\n",
       "    .dataframe thead th {\n",
       "        text-align: right;\n",
       "    }\n",
       "</style>\n",
       "<table border=\"1\" class=\"dataframe\">\n",
       "  <thead>\n",
       "    <tr style=\"text-align: right;\">\n",
       "      <th></th>\n",
       "      <th>Region</th>\n",
       "      <th>Country</th>\n",
       "      <th>First Closed Won Opp Date</th>\n",
       "      <th>Account ID</th>\n",
       "      <th>CSM Status Stage</th>\n",
       "      <th>Activation Date</th>\n",
       "      <th>Highest Product</th>\n",
       "      <th>Last Product usage date</th>\n",
       "      <th># delivery partners</th>\n",
       "    </tr>\n",
       "  </thead>\n",
       "  <tbody>\n",
       "    <tr>\n",
       "      <th>0</th>\n",
       "      <td>Region A</td>\n",
       "      <td>Country 1</td>\n",
       "      <td>2021-09-22</td>\n",
       "      <td>0012E00002b5a1J</td>\n",
       "      <td>Active</td>\n",
       "      <td>2021-09-28</td>\n",
       "      <td>NaN</td>\n",
       "      <td>2022-01-13</td>\n",
       "      <td>2.0</td>\n",
       "    </tr>\n",
       "    <tr>\n",
       "      <th>1</th>\n",
       "      <td>Region A</td>\n",
       "      <td>Country 8</td>\n",
       "      <td>2021-09-16</td>\n",
       "      <td>0012E00002b5Zvf</td>\n",
       "      <td>Active</td>\n",
       "      <td>2021-10-04</td>\n",
       "      <td>NaN</td>\n",
       "      <td>2022-01-13</td>\n",
       "      <td>4.0</td>\n",
       "    </tr>\n",
       "    <tr>\n",
       "      <th>2</th>\n",
       "      <td>Region C</td>\n",
       "      <td>Country 16</td>\n",
       "      <td>2021-10-01</td>\n",
       "      <td>0012E00002b8A7b</td>\n",
       "      <td>Active</td>\n",
       "      <td>2021-10-01</td>\n",
       "      <td>NaN</td>\n",
       "      <td>NaT</td>\n",
       "      <td>1.0</td>\n",
       "    </tr>\n",
       "    <tr>\n",
       "      <th>3</th>\n",
       "      <td>Region C</td>\n",
       "      <td>Country 16</td>\n",
       "      <td>2021-10-01</td>\n",
       "      <td>0012E00002b8Ail</td>\n",
       "      <td>Active</td>\n",
       "      <td>2021-10-01</td>\n",
       "      <td>NaN</td>\n",
       "      <td>NaT</td>\n",
       "      <td>1.0</td>\n",
       "    </tr>\n",
       "    <tr>\n",
       "      <th>4</th>\n",
       "      <td>Region C</td>\n",
       "      <td>Country 16</td>\n",
       "      <td>2021-10-01</td>\n",
       "      <td>0012E00002b8AMp</td>\n",
       "      <td>Active</td>\n",
       "      <td>2021-10-01</td>\n",
       "      <td>NaN</td>\n",
       "      <td>NaT</td>\n",
       "      <td>1.0</td>\n",
       "    </tr>\n",
       "  </tbody>\n",
       "</table>\n",
       "</div>"
      ],
      "text/plain": [
       "     Region     Country First Closed Won Opp Date       Account ID  \\\n",
       "0  Region A   Country 1                2021-09-22  0012E00002b5a1J   \n",
       "1  Region A   Country 8                2021-09-16  0012E00002b5Zvf   \n",
       "2  Region C  Country 16                2021-10-01  0012E00002b8A7b   \n",
       "3  Region C  Country 16                2021-10-01  0012E00002b8Ail   \n",
       "4  Region C  Country 16                2021-10-01  0012E00002b8AMp   \n",
       "\n",
       "  CSM Status Stage Activation Date Highest Product Last Product usage date  \\\n",
       "0           Active      2021-09-28             NaN              2022-01-13   \n",
       "1           Active      2021-10-04             NaN              2022-01-13   \n",
       "2           Active      2021-10-01             NaN                     NaT   \n",
       "3           Active      2021-10-01             NaN                     NaT   \n",
       "4           Active      2021-10-01             NaN                     NaT   \n",
       "\n",
       "   # delivery partners  \n",
       "0                  2.0  \n",
       "1                  4.0  \n",
       "2                  1.0  \n",
       "3                  1.0  \n",
       "4                  1.0  "
      ]
     },
     "execution_count": 7,
     "metadata": {},
     "output_type": "execute_result"
    }
   ],
   "source": [
    "df[\"Last Product usage date\"] = pd.to_datetime(pd.to_datetime(df[\"Last Product usage date\"], format='mixed').dt.date)\n",
    "df.head()"
   ]
  },
  {
   "cell_type": "markdown",
   "id": "02a57683-3a0a-48c2-acec-6452b696b44f",
   "metadata": {},
   "source": [
    "The relevant fields have been converted to date type and most importantly converted to the same format (YYYY-MM-DD) for future usage. "
   ]
  },
  {
   "cell_type": "code",
   "execution_count": 8,
   "id": "3d6a4050-ecc0-4c62-9ef7-35a7cda53f40",
   "metadata": {},
   "outputs": [
    {
     "data": {
      "text/plain": [
       "Region                               object\n",
       "Country                              object\n",
       "First Closed Won Opp Date    datetime64[ns]\n",
       "Account ID                           object\n",
       "CSM Status Stage                     object\n",
       "Activation Date              datetime64[ns]\n",
       "Highest Product                      object\n",
       "Last Product usage date      datetime64[ns]\n",
       "# delivery partners                 float64\n",
       "dtype: object"
      ]
     },
     "execution_count": 8,
     "metadata": {},
     "output_type": "execute_result"
    }
   ],
   "source": [
    "df.dtypes"
   ]
  },
  {
   "cell_type": "markdown",
   "id": "bea3c878-e006-4d32-96b9-1e7d72642a17",
   "metadata": {},
   "source": [
    "## Checking Column Values"
   ]
  },
  {
   "cell_type": "code",
   "execution_count": 9,
   "id": "3ae0dce2-7a30-4ece-8d31-bd6bf13fca93",
   "metadata": {},
   "outputs": [
    {
     "data": {
      "text/plain": [
       "Region                           0\n",
       "Country                          0\n",
       "First Closed Won Opp Date        0\n",
       "Account ID                       0\n",
       "CSM Status Stage                51\n",
       "Activation Date              11384\n",
       "Highest Product              38167\n",
       "Last Product usage date      13600\n",
       "# delivery partners           8755\n",
       "dtype: int64"
      ]
     },
     "execution_count": 9,
     "metadata": {},
     "output_type": "execute_result"
    }
   ],
   "source": [
    "df.isnull().sum()"
   ]
  },
  {
   "cell_type": "code",
   "execution_count": 10,
   "id": "451ef90e",
   "metadata": {},
   "outputs": [
    {
     "data": {
      "text/html": [
       "<div>\n",
       "<style scoped>\n",
       "    .dataframe tbody tr th:only-of-type {\n",
       "        vertical-align: middle;\n",
       "    }\n",
       "\n",
       "    .dataframe tbody tr th {\n",
       "        vertical-align: top;\n",
       "    }\n",
       "\n",
       "    .dataframe thead th {\n",
       "        text-align: right;\n",
       "    }\n",
       "</style>\n",
       "<table border=\"1\" class=\"dataframe\">\n",
       "  <thead>\n",
       "    <tr style=\"text-align: right;\">\n",
       "      <th></th>\n",
       "      <th>Region</th>\n",
       "      <th>Country</th>\n",
       "      <th>First Closed Won Opp Date</th>\n",
       "      <th>Account ID</th>\n",
       "      <th>CSM Status Stage</th>\n",
       "      <th>Activation Date</th>\n",
       "      <th>Highest Product</th>\n",
       "      <th>Last Product usage date</th>\n",
       "      <th># delivery partners</th>\n",
       "    </tr>\n",
       "  </thead>\n",
       "  <tbody>\n",
       "    <tr>\n",
       "      <th>0</th>\n",
       "      <td>Region A</td>\n",
       "      <td>Country 1</td>\n",
       "      <td>2021-09-22</td>\n",
       "      <td>0012E00002b5a1J</td>\n",
       "      <td>Active</td>\n",
       "      <td>2021-09-28</td>\n",
       "      <td>NaN</td>\n",
       "      <td>2022-01-13</td>\n",
       "      <td>2.0</td>\n",
       "    </tr>\n",
       "    <tr>\n",
       "      <th>1</th>\n",
       "      <td>Region A</td>\n",
       "      <td>Country 8</td>\n",
       "      <td>2021-09-16</td>\n",
       "      <td>0012E00002b5Zvf</td>\n",
       "      <td>Active</td>\n",
       "      <td>2021-10-04</td>\n",
       "      <td>NaN</td>\n",
       "      <td>2022-01-13</td>\n",
       "      <td>4.0</td>\n",
       "    </tr>\n",
       "    <tr>\n",
       "      <th>2</th>\n",
       "      <td>Region C</td>\n",
       "      <td>Country 16</td>\n",
       "      <td>2021-10-01</td>\n",
       "      <td>0012E00002b8A7b</td>\n",
       "      <td>Active</td>\n",
       "      <td>2021-10-01</td>\n",
       "      <td>NaN</td>\n",
       "      <td>NaT</td>\n",
       "      <td>1.0</td>\n",
       "    </tr>\n",
       "    <tr>\n",
       "      <th>3</th>\n",
       "      <td>Region C</td>\n",
       "      <td>Country 16</td>\n",
       "      <td>2021-10-01</td>\n",
       "      <td>0012E00002b8Ail</td>\n",
       "      <td>Active</td>\n",
       "      <td>2021-10-01</td>\n",
       "      <td>NaN</td>\n",
       "      <td>NaT</td>\n",
       "      <td>1.0</td>\n",
       "    </tr>\n",
       "    <tr>\n",
       "      <th>4</th>\n",
       "      <td>Region C</td>\n",
       "      <td>Country 16</td>\n",
       "      <td>2021-10-01</td>\n",
       "      <td>0012E00002b8AMp</td>\n",
       "      <td>Active</td>\n",
       "      <td>2021-10-01</td>\n",
       "      <td>NaN</td>\n",
       "      <td>NaT</td>\n",
       "      <td>1.0</td>\n",
       "    </tr>\n",
       "    <tr>\n",
       "      <th>...</th>\n",
       "      <td>...</td>\n",
       "      <td>...</td>\n",
       "      <td>...</td>\n",
       "      <td>...</td>\n",
       "      <td>...</td>\n",
       "      <td>...</td>\n",
       "      <td>...</td>\n",
       "      <td>...</td>\n",
       "      <td>...</td>\n",
       "    </tr>\n",
       "    <tr>\n",
       "      <th>38615</th>\n",
       "      <td>Region C</td>\n",
       "      <td>Country 16</td>\n",
       "      <td>2022-01-14</td>\n",
       "      <td>0016R0000378sYO</td>\n",
       "      <td>Onboarding</td>\n",
       "      <td>NaT</td>\n",
       "      <td>NaN</td>\n",
       "      <td>NaT</td>\n",
       "      <td>NaN</td>\n",
       "    </tr>\n",
       "    <tr>\n",
       "      <th>38616</th>\n",
       "      <td>Region C</td>\n",
       "      <td>Country 16</td>\n",
       "      <td>2022-01-14</td>\n",
       "      <td>0016R0000378sYT</td>\n",
       "      <td>Onboarding</td>\n",
       "      <td>NaT</td>\n",
       "      <td>NaN</td>\n",
       "      <td>NaT</td>\n",
       "      <td>NaN</td>\n",
       "    </tr>\n",
       "    <tr>\n",
       "      <th>38617</th>\n",
       "      <td>Region C</td>\n",
       "      <td>Country 16</td>\n",
       "      <td>2022-01-14</td>\n",
       "      <td>0016R0000378sYY</td>\n",
       "      <td>Onboarding</td>\n",
       "      <td>NaT</td>\n",
       "      <td>NaN</td>\n",
       "      <td>NaT</td>\n",
       "      <td>NaN</td>\n",
       "    </tr>\n",
       "    <tr>\n",
       "      <th>38618</th>\n",
       "      <td>Region C</td>\n",
       "      <td>Country 16</td>\n",
       "      <td>2022-01-15</td>\n",
       "      <td>0016R0000378vuy</td>\n",
       "      <td>Onboarding</td>\n",
       "      <td>NaT</td>\n",
       "      <td>NaN</td>\n",
       "      <td>NaT</td>\n",
       "      <td>NaN</td>\n",
       "    </tr>\n",
       "    <tr>\n",
       "      <th>38619</th>\n",
       "      <td>Region C</td>\n",
       "      <td>Country 16</td>\n",
       "      <td>2022-01-15</td>\n",
       "      <td>0016R0000378vvm</td>\n",
       "      <td>Onboarding</td>\n",
       "      <td>NaT</td>\n",
       "      <td>NaN</td>\n",
       "      <td>NaT</td>\n",
       "      <td>NaN</td>\n",
       "    </tr>\n",
       "  </tbody>\n",
       "</table>\n",
       "<p>38569 rows × 9 columns</p>\n",
       "</div>"
      ],
      "text/plain": [
       "         Region     Country First Closed Won Opp Date       Account ID  \\\n",
       "0      Region A   Country 1                2021-09-22  0012E00002b5a1J   \n",
       "1      Region A   Country 8                2021-09-16  0012E00002b5Zvf   \n",
       "2      Region C  Country 16                2021-10-01  0012E00002b8A7b   \n",
       "3      Region C  Country 16                2021-10-01  0012E00002b8Ail   \n",
       "4      Region C  Country 16                2021-10-01  0012E00002b8AMp   \n",
       "...         ...         ...                       ...              ...   \n",
       "38615  Region C  Country 16                2022-01-14  0016R0000378sYO   \n",
       "38616  Region C  Country 16                2022-01-14  0016R0000378sYT   \n",
       "38617  Region C  Country 16                2022-01-14  0016R0000378sYY   \n",
       "38618  Region C  Country 16                2022-01-15  0016R0000378vuy   \n",
       "38619  Region C  Country 16                2022-01-15  0016R0000378vvm   \n",
       "\n",
       "      CSM Status Stage Activation Date Highest Product  \\\n",
       "0               Active      2021-09-28             NaN   \n",
       "1               Active      2021-10-04             NaN   \n",
       "2               Active      2021-10-01             NaN   \n",
       "3               Active      2021-10-01             NaN   \n",
       "4               Active      2021-10-01             NaN   \n",
       "...                ...             ...             ...   \n",
       "38615       Onboarding             NaT             NaN   \n",
       "38616       Onboarding             NaT             NaN   \n",
       "38617       Onboarding             NaT             NaN   \n",
       "38618       Onboarding             NaT             NaN   \n",
       "38619       Onboarding             NaT             NaN   \n",
       "\n",
       "      Last Product usage date  # delivery partners  \n",
       "0                  2022-01-13                  2.0  \n",
       "1                  2022-01-13                  4.0  \n",
       "2                         NaT                  1.0  \n",
       "3                         NaT                  1.0  \n",
       "4                         NaT                  1.0  \n",
       "...                       ...                  ...  \n",
       "38615                     NaT                  NaN  \n",
       "38616                     NaT                  NaN  \n",
       "38617                     NaT                  NaN  \n",
       "38618                     NaT                  NaN  \n",
       "38619                     NaT                  NaN  \n",
       "\n",
       "[38569 rows x 9 columns]"
      ]
     },
     "execution_count": 10,
     "metadata": {},
     "output_type": "execute_result"
    }
   ],
   "source": [
    "df = df.dropna(subset=[\"CSM Status Stage\"])\n",
    "\n",
    "df"
   ]
  },
  {
   "cell_type": "markdown",
   "id": "df93575f-1556-4e66-ba43-df810d944a3d",
   "metadata": {},
   "source": [
    "From the above summary we can see there are a few columns with excessively high values of NaN. We'll investigate further but it seems likely that at least one of these columns will need to be re-factored or removed."
   ]
  },
  {
   "cell_type": "markdown",
   "id": "fdb07e5c-59f2-48fb-9421-7c65088bfa2a",
   "metadata": {},
   "source": [
    "## Investigating High NaN Columns"
   ]
  },
  {
   "cell_type": "code",
   "execution_count": 11,
   "id": "7b0e36d5-67c1-4de2-85af-896e6ed26b42",
   "metadata": {},
   "outputs": [
    {
     "name": "stdout",
     "output_type": "stream",
     "text": [
      "So the percentage of 'Highest Product' values that are NaN's is 98.82548160439731 %\n"
     ]
    }
   ],
   "source": [
    "hp_num_true = df[\"Highest Product\"].value_counts().sum()\n",
    "hp_num_false = df[\"Highest Product\"].isnull().sum()\n",
    "hp_total = len(df[\"Highest Product\"])\n",
    "\n",
    "print(f\"So the percentage of 'Highest Product' values that are NaN's is {hp_num_false / hp_total * 100} %\")"
   ]
  },
  {
   "cell_type": "markdown",
   "id": "d8505da6-8eb1-46fb-8c0f-ad8a356a95b0",
   "metadata": {},
   "source": [
    "We can see this is a very high percentage, however there is reason to believe that this may be useful in the future. So for the moment we will convert the NaN's so that they can be used in the dashboard.\n",
    "\n",
    "We can see the \"Highest Product\" values below."
   ]
  },
  {
   "cell_type": "code",
   "execution_count": 12,
   "id": "ac68c2a3-4e2e-47d7-8bef-ff271ee01832",
   "metadata": {},
   "outputs": [
    {
     "data": {
      "text/plain": [
       "{'Basic', 'Core', 'Premium', nan}"
      ]
     },
     "execution_count": 12,
     "metadata": {},
     "output_type": "execute_result"
    }
   ],
   "source": [
    "product_values = set(df[\"Highest Product\"])\n",
    "product_values"
   ]
  },
  {
   "cell_type": "markdown",
   "id": "297dcfa6-7b59-454c-87d0-2eb9e4400a3a",
   "metadata": {},
   "source": [
    "In this instance we will assume that in the context of the (fake) data that these are existing or onboarding customers and therefore have at least one type of product, so we will convert the NaN values to \"basic\""
   ]
  },
  {
   "cell_type": "code",
   "execution_count": 13,
   "id": "442db619-3b5b-4381-b84a-fa2d263333f1",
   "metadata": {},
   "outputs": [
    {
     "data": {
      "text/html": [
       "<div>\n",
       "<style scoped>\n",
       "    .dataframe tbody tr th:only-of-type {\n",
       "        vertical-align: middle;\n",
       "    }\n",
       "\n",
       "    .dataframe tbody tr th {\n",
       "        vertical-align: top;\n",
       "    }\n",
       "\n",
       "    .dataframe thead th {\n",
       "        text-align: right;\n",
       "    }\n",
       "</style>\n",
       "<table border=\"1\" class=\"dataframe\">\n",
       "  <thead>\n",
       "    <tr style=\"text-align: right;\">\n",
       "      <th></th>\n",
       "      <th>Region</th>\n",
       "      <th>Country</th>\n",
       "      <th>First Closed Won Opp Date</th>\n",
       "      <th>Account ID</th>\n",
       "      <th>CSM Status Stage</th>\n",
       "      <th>Activation Date</th>\n",
       "      <th>Highest Product</th>\n",
       "      <th>Last Product usage date</th>\n",
       "      <th># delivery partners</th>\n",
       "    </tr>\n",
       "  </thead>\n",
       "  <tbody>\n",
       "    <tr>\n",
       "      <th>0</th>\n",
       "      <td>Region A</td>\n",
       "      <td>Country 1</td>\n",
       "      <td>2021-09-22</td>\n",
       "      <td>0012E00002b5a1J</td>\n",
       "      <td>Active</td>\n",
       "      <td>2021-09-28</td>\n",
       "      <td>Basic</td>\n",
       "      <td>2022-01-13</td>\n",
       "      <td>2.0</td>\n",
       "    </tr>\n",
       "    <tr>\n",
       "      <th>1</th>\n",
       "      <td>Region A</td>\n",
       "      <td>Country 8</td>\n",
       "      <td>2021-09-16</td>\n",
       "      <td>0012E00002b5Zvf</td>\n",
       "      <td>Active</td>\n",
       "      <td>2021-10-04</td>\n",
       "      <td>Basic</td>\n",
       "      <td>2022-01-13</td>\n",
       "      <td>4.0</td>\n",
       "    </tr>\n",
       "    <tr>\n",
       "      <th>2</th>\n",
       "      <td>Region C</td>\n",
       "      <td>Country 16</td>\n",
       "      <td>2021-10-01</td>\n",
       "      <td>0012E00002b8A7b</td>\n",
       "      <td>Active</td>\n",
       "      <td>2021-10-01</td>\n",
       "      <td>Basic</td>\n",
       "      <td>NaT</td>\n",
       "      <td>1.0</td>\n",
       "    </tr>\n",
       "    <tr>\n",
       "      <th>3</th>\n",
       "      <td>Region C</td>\n",
       "      <td>Country 16</td>\n",
       "      <td>2021-10-01</td>\n",
       "      <td>0012E00002b8Ail</td>\n",
       "      <td>Active</td>\n",
       "      <td>2021-10-01</td>\n",
       "      <td>Basic</td>\n",
       "      <td>NaT</td>\n",
       "      <td>1.0</td>\n",
       "    </tr>\n",
       "    <tr>\n",
       "      <th>4</th>\n",
       "      <td>Region C</td>\n",
       "      <td>Country 16</td>\n",
       "      <td>2021-10-01</td>\n",
       "      <td>0012E00002b8AMp</td>\n",
       "      <td>Active</td>\n",
       "      <td>2021-10-01</td>\n",
       "      <td>Basic</td>\n",
       "      <td>NaT</td>\n",
       "      <td>1.0</td>\n",
       "    </tr>\n",
       "    <tr>\n",
       "      <th>...</th>\n",
       "      <td>...</td>\n",
       "      <td>...</td>\n",
       "      <td>...</td>\n",
       "      <td>...</td>\n",
       "      <td>...</td>\n",
       "      <td>...</td>\n",
       "      <td>...</td>\n",
       "      <td>...</td>\n",
       "      <td>...</td>\n",
       "    </tr>\n",
       "    <tr>\n",
       "      <th>38615</th>\n",
       "      <td>Region C</td>\n",
       "      <td>Country 16</td>\n",
       "      <td>2022-01-14</td>\n",
       "      <td>0016R0000378sYO</td>\n",
       "      <td>Onboarding</td>\n",
       "      <td>NaT</td>\n",
       "      <td>Basic</td>\n",
       "      <td>NaT</td>\n",
       "      <td>NaN</td>\n",
       "    </tr>\n",
       "    <tr>\n",
       "      <th>38616</th>\n",
       "      <td>Region C</td>\n",
       "      <td>Country 16</td>\n",
       "      <td>2022-01-14</td>\n",
       "      <td>0016R0000378sYT</td>\n",
       "      <td>Onboarding</td>\n",
       "      <td>NaT</td>\n",
       "      <td>Basic</td>\n",
       "      <td>NaT</td>\n",
       "      <td>NaN</td>\n",
       "    </tr>\n",
       "    <tr>\n",
       "      <th>38617</th>\n",
       "      <td>Region C</td>\n",
       "      <td>Country 16</td>\n",
       "      <td>2022-01-14</td>\n",
       "      <td>0016R0000378sYY</td>\n",
       "      <td>Onboarding</td>\n",
       "      <td>NaT</td>\n",
       "      <td>Basic</td>\n",
       "      <td>NaT</td>\n",
       "      <td>NaN</td>\n",
       "    </tr>\n",
       "    <tr>\n",
       "      <th>38618</th>\n",
       "      <td>Region C</td>\n",
       "      <td>Country 16</td>\n",
       "      <td>2022-01-15</td>\n",
       "      <td>0016R0000378vuy</td>\n",
       "      <td>Onboarding</td>\n",
       "      <td>NaT</td>\n",
       "      <td>Basic</td>\n",
       "      <td>NaT</td>\n",
       "      <td>NaN</td>\n",
       "    </tr>\n",
       "    <tr>\n",
       "      <th>38619</th>\n",
       "      <td>Region C</td>\n",
       "      <td>Country 16</td>\n",
       "      <td>2022-01-15</td>\n",
       "      <td>0016R0000378vvm</td>\n",
       "      <td>Onboarding</td>\n",
       "      <td>NaT</td>\n",
       "      <td>Basic</td>\n",
       "      <td>NaT</td>\n",
       "      <td>NaN</td>\n",
       "    </tr>\n",
       "  </tbody>\n",
       "</table>\n",
       "<p>38569 rows × 9 columns</p>\n",
       "</div>"
      ],
      "text/plain": [
       "         Region     Country First Closed Won Opp Date       Account ID  \\\n",
       "0      Region A   Country 1                2021-09-22  0012E00002b5a1J   \n",
       "1      Region A   Country 8                2021-09-16  0012E00002b5Zvf   \n",
       "2      Region C  Country 16                2021-10-01  0012E00002b8A7b   \n",
       "3      Region C  Country 16                2021-10-01  0012E00002b8Ail   \n",
       "4      Region C  Country 16                2021-10-01  0012E00002b8AMp   \n",
       "...         ...         ...                       ...              ...   \n",
       "38615  Region C  Country 16                2022-01-14  0016R0000378sYO   \n",
       "38616  Region C  Country 16                2022-01-14  0016R0000378sYT   \n",
       "38617  Region C  Country 16                2022-01-14  0016R0000378sYY   \n",
       "38618  Region C  Country 16                2022-01-15  0016R0000378vuy   \n",
       "38619  Region C  Country 16                2022-01-15  0016R0000378vvm   \n",
       "\n",
       "      CSM Status Stage Activation Date Highest Product  \\\n",
       "0               Active      2021-09-28           Basic   \n",
       "1               Active      2021-10-04           Basic   \n",
       "2               Active      2021-10-01           Basic   \n",
       "3               Active      2021-10-01           Basic   \n",
       "4               Active      2021-10-01           Basic   \n",
       "...                ...             ...             ...   \n",
       "38615       Onboarding             NaT           Basic   \n",
       "38616       Onboarding             NaT           Basic   \n",
       "38617       Onboarding             NaT           Basic   \n",
       "38618       Onboarding             NaT           Basic   \n",
       "38619       Onboarding             NaT           Basic   \n",
       "\n",
       "      Last Product usage date  # delivery partners  \n",
       "0                  2022-01-13                  2.0  \n",
       "1                  2022-01-13                  4.0  \n",
       "2                         NaT                  1.0  \n",
       "3                         NaT                  1.0  \n",
       "4                         NaT                  1.0  \n",
       "...                       ...                  ...  \n",
       "38615                     NaT                  NaN  \n",
       "38616                     NaT                  NaN  \n",
       "38617                     NaT                  NaN  \n",
       "38618                     NaT                  NaN  \n",
       "38619                     NaT                  NaN  \n",
       "\n",
       "[38569 rows x 9 columns]"
      ]
     },
     "execution_count": 13,
     "metadata": {},
     "output_type": "execute_result"
    }
   ],
   "source": [
    "values = {\"Highest Product\": \"Basic\"}\n",
    "df = df.fillna(value=values)\n",
    "df"
   ]
  },
  {
   "cell_type": "markdown",
   "id": "840839c0-fa42-4d99-a477-2cd5cb1e2125",
   "metadata": {},
   "source": [
    "## Impute Average Values"
   ]
  },
  {
   "cell_type": "markdown",
   "id": "63d0cf33-8626-4ea8-a07c-ac1723ebc2cf",
   "metadata": {},
   "source": [
    "We can see that the \"# delivery partners\" column has a large number of missing values. I think it's safe to say that as they are either onboarded or have begun the process they will have at least a delivery partner.\n",
    "\n",
    "In the contex of the data I think it is best to impute the average value.\n",
    "\n",
    "Firstly we select all the non NaN values from the column."
   ]
  },
  {
   "cell_type": "code",
   "execution_count": 14,
   "id": "11110e0d-0bcf-4e7a-80cb-88c2d437f0d9",
   "metadata": {},
   "outputs": [],
   "source": [
    "dp_mean = df[\"# delivery partners\"].mean()\n",
    "\n",
    "df[\"# delivery partners\"] = df[\"# delivery partners\"].replace(np.nan, dp_mean.round(1))"
   ]
  },
  {
   "cell_type": "code",
   "execution_count": 15,
   "id": "c7c96965-568d-4009-ada2-b2ece534a75c",
   "metadata": {},
   "outputs": [
    {
     "data": {
      "text/html": [
       "<div>\n",
       "<style scoped>\n",
       "    .dataframe tbody tr th:only-of-type {\n",
       "        vertical-align: middle;\n",
       "    }\n",
       "\n",
       "    .dataframe tbody tr th {\n",
       "        vertical-align: top;\n",
       "    }\n",
       "\n",
       "    .dataframe thead th {\n",
       "        text-align: right;\n",
       "    }\n",
       "</style>\n",
       "<table border=\"1\" class=\"dataframe\">\n",
       "  <thead>\n",
       "    <tr style=\"text-align: right;\">\n",
       "      <th></th>\n",
       "      <th>Region</th>\n",
       "      <th>Country</th>\n",
       "      <th>First Closed Won Opp Date</th>\n",
       "      <th>Account ID</th>\n",
       "      <th>CSM Status Stage</th>\n",
       "      <th>Activation Date</th>\n",
       "      <th>Highest Product</th>\n",
       "      <th>Last Product usage date</th>\n",
       "      <th># delivery partners</th>\n",
       "    </tr>\n",
       "  </thead>\n",
       "  <tbody>\n",
       "    <tr>\n",
       "      <th>0</th>\n",
       "      <td>Region A</td>\n",
       "      <td>Country 1</td>\n",
       "      <td>2021-09-22</td>\n",
       "      <td>0012E00002b5a1J</td>\n",
       "      <td>Active</td>\n",
       "      <td>2021-09-28</td>\n",
       "      <td>Basic</td>\n",
       "      <td>2022-01-13</td>\n",
       "      <td>2.0</td>\n",
       "    </tr>\n",
       "    <tr>\n",
       "      <th>1</th>\n",
       "      <td>Region A</td>\n",
       "      <td>Country 8</td>\n",
       "      <td>2021-09-16</td>\n",
       "      <td>0012E00002b5Zvf</td>\n",
       "      <td>Active</td>\n",
       "      <td>2021-10-04</td>\n",
       "      <td>Basic</td>\n",
       "      <td>2022-01-13</td>\n",
       "      <td>4.0</td>\n",
       "    </tr>\n",
       "    <tr>\n",
       "      <th>2</th>\n",
       "      <td>Region C</td>\n",
       "      <td>Country 16</td>\n",
       "      <td>2021-10-01</td>\n",
       "      <td>0012E00002b8A7b</td>\n",
       "      <td>Active</td>\n",
       "      <td>2021-10-01</td>\n",
       "      <td>Basic</td>\n",
       "      <td>NaT</td>\n",
       "      <td>1.0</td>\n",
       "    </tr>\n",
       "    <tr>\n",
       "      <th>3</th>\n",
       "      <td>Region C</td>\n",
       "      <td>Country 16</td>\n",
       "      <td>2021-10-01</td>\n",
       "      <td>0012E00002b8Ail</td>\n",
       "      <td>Active</td>\n",
       "      <td>2021-10-01</td>\n",
       "      <td>Basic</td>\n",
       "      <td>NaT</td>\n",
       "      <td>1.0</td>\n",
       "    </tr>\n",
       "    <tr>\n",
       "      <th>4</th>\n",
       "      <td>Region C</td>\n",
       "      <td>Country 16</td>\n",
       "      <td>2021-10-01</td>\n",
       "      <td>0012E00002b8AMp</td>\n",
       "      <td>Active</td>\n",
       "      <td>2021-10-01</td>\n",
       "      <td>Basic</td>\n",
       "      <td>NaT</td>\n",
       "      <td>1.0</td>\n",
       "    </tr>\n",
       "    <tr>\n",
       "      <th>...</th>\n",
       "      <td>...</td>\n",
       "      <td>...</td>\n",
       "      <td>...</td>\n",
       "      <td>...</td>\n",
       "      <td>...</td>\n",
       "      <td>...</td>\n",
       "      <td>...</td>\n",
       "      <td>...</td>\n",
       "      <td>...</td>\n",
       "    </tr>\n",
       "    <tr>\n",
       "      <th>38615</th>\n",
       "      <td>Region C</td>\n",
       "      <td>Country 16</td>\n",
       "      <td>2022-01-14</td>\n",
       "      <td>0016R0000378sYO</td>\n",
       "      <td>Onboarding</td>\n",
       "      <td>NaT</td>\n",
       "      <td>Basic</td>\n",
       "      <td>NaT</td>\n",
       "      <td>1.3</td>\n",
       "    </tr>\n",
       "    <tr>\n",
       "      <th>38616</th>\n",
       "      <td>Region C</td>\n",
       "      <td>Country 16</td>\n",
       "      <td>2022-01-14</td>\n",
       "      <td>0016R0000378sYT</td>\n",
       "      <td>Onboarding</td>\n",
       "      <td>NaT</td>\n",
       "      <td>Basic</td>\n",
       "      <td>NaT</td>\n",
       "      <td>1.3</td>\n",
       "    </tr>\n",
       "    <tr>\n",
       "      <th>38617</th>\n",
       "      <td>Region C</td>\n",
       "      <td>Country 16</td>\n",
       "      <td>2022-01-14</td>\n",
       "      <td>0016R0000378sYY</td>\n",
       "      <td>Onboarding</td>\n",
       "      <td>NaT</td>\n",
       "      <td>Basic</td>\n",
       "      <td>NaT</td>\n",
       "      <td>1.3</td>\n",
       "    </tr>\n",
       "    <tr>\n",
       "      <th>38618</th>\n",
       "      <td>Region C</td>\n",
       "      <td>Country 16</td>\n",
       "      <td>2022-01-15</td>\n",
       "      <td>0016R0000378vuy</td>\n",
       "      <td>Onboarding</td>\n",
       "      <td>NaT</td>\n",
       "      <td>Basic</td>\n",
       "      <td>NaT</td>\n",
       "      <td>1.3</td>\n",
       "    </tr>\n",
       "    <tr>\n",
       "      <th>38619</th>\n",
       "      <td>Region C</td>\n",
       "      <td>Country 16</td>\n",
       "      <td>2022-01-15</td>\n",
       "      <td>0016R0000378vvm</td>\n",
       "      <td>Onboarding</td>\n",
       "      <td>NaT</td>\n",
       "      <td>Basic</td>\n",
       "      <td>NaT</td>\n",
       "      <td>1.3</td>\n",
       "    </tr>\n",
       "  </tbody>\n",
       "</table>\n",
       "<p>38569 rows × 9 columns</p>\n",
       "</div>"
      ],
      "text/plain": [
       "         Region     Country First Closed Won Opp Date       Account ID  \\\n",
       "0      Region A   Country 1                2021-09-22  0012E00002b5a1J   \n",
       "1      Region A   Country 8                2021-09-16  0012E00002b5Zvf   \n",
       "2      Region C  Country 16                2021-10-01  0012E00002b8A7b   \n",
       "3      Region C  Country 16                2021-10-01  0012E00002b8Ail   \n",
       "4      Region C  Country 16                2021-10-01  0012E00002b8AMp   \n",
       "...         ...         ...                       ...              ...   \n",
       "38615  Region C  Country 16                2022-01-14  0016R0000378sYO   \n",
       "38616  Region C  Country 16                2022-01-14  0016R0000378sYT   \n",
       "38617  Region C  Country 16                2022-01-14  0016R0000378sYY   \n",
       "38618  Region C  Country 16                2022-01-15  0016R0000378vuy   \n",
       "38619  Region C  Country 16                2022-01-15  0016R0000378vvm   \n",
       "\n",
       "      CSM Status Stage Activation Date Highest Product  \\\n",
       "0               Active      2021-09-28           Basic   \n",
       "1               Active      2021-10-04           Basic   \n",
       "2               Active      2021-10-01           Basic   \n",
       "3               Active      2021-10-01           Basic   \n",
       "4               Active      2021-10-01           Basic   \n",
       "...                ...             ...             ...   \n",
       "38615       Onboarding             NaT           Basic   \n",
       "38616       Onboarding             NaT           Basic   \n",
       "38617       Onboarding             NaT           Basic   \n",
       "38618       Onboarding             NaT           Basic   \n",
       "38619       Onboarding             NaT           Basic   \n",
       "\n",
       "      Last Product usage date  # delivery partners  \n",
       "0                  2022-01-13                  2.0  \n",
       "1                  2022-01-13                  4.0  \n",
       "2                         NaT                  1.0  \n",
       "3                         NaT                  1.0  \n",
       "4                         NaT                  1.0  \n",
       "...                       ...                  ...  \n",
       "38615                     NaT                  1.3  \n",
       "38616                     NaT                  1.3  \n",
       "38617                     NaT                  1.3  \n",
       "38618                     NaT                  1.3  \n",
       "38619                     NaT                  1.3  \n",
       "\n",
       "[38569 rows x 9 columns]"
      ]
     },
     "execution_count": 15,
     "metadata": {},
     "output_type": "execute_result"
    }
   ],
   "source": [
    "df"
   ]
  },
  {
   "cell_type": "markdown",
   "id": "db1e2b00-97ce-47e2-9942-7f9563c1ccb3",
   "metadata": {},
   "source": [
    "Here we have calculated the mean value, replaced the column and then rounded the results for readability."
   ]
  },
  {
   "cell_type": "markdown",
   "id": "f0bf1a49-adba-4583-b6f0-bdee6c76a695",
   "metadata": {},
   "source": [
    "## Time to Activation\n",
    "\n",
    "Activation time is a relevant factor when determining customer satisfaction and profitability.\n",
    "\n",
    "We can can calculate the time from the opportunity being won to the product going live and set this as a new column."
   ]
  },
  {
   "cell_type": "code",
   "execution_count": 16,
   "id": "dc43a715-f6be-4d57-872d-8433292436e5",
   "metadata": {},
   "outputs": [
    {
     "data": {
      "text/html": [
       "<div>\n",
       "<style scoped>\n",
       "    .dataframe tbody tr th:only-of-type {\n",
       "        vertical-align: middle;\n",
       "    }\n",
       "\n",
       "    .dataframe tbody tr th {\n",
       "        vertical-align: top;\n",
       "    }\n",
       "\n",
       "    .dataframe thead th {\n",
       "        text-align: right;\n",
       "    }\n",
       "</style>\n",
       "<table border=\"1\" class=\"dataframe\">\n",
       "  <thead>\n",
       "    <tr style=\"text-align: right;\">\n",
       "      <th></th>\n",
       "      <th>Region</th>\n",
       "      <th>Country</th>\n",
       "      <th>First Closed Won Opp Date</th>\n",
       "      <th>Account ID</th>\n",
       "      <th>CSM Status Stage</th>\n",
       "      <th>Activation Date</th>\n",
       "      <th>Highest Product</th>\n",
       "      <th>Last Product usage date</th>\n",
       "      <th># delivery partners</th>\n",
       "      <th>Time to Activation</th>\n",
       "    </tr>\n",
       "  </thead>\n",
       "  <tbody>\n",
       "    <tr>\n",
       "      <th>0</th>\n",
       "      <td>Region A</td>\n",
       "      <td>Country 1</td>\n",
       "      <td>2021-09-22</td>\n",
       "      <td>0012E00002b5a1J</td>\n",
       "      <td>Active</td>\n",
       "      <td>2021-09-28</td>\n",
       "      <td>Basic</td>\n",
       "      <td>2022-01-13</td>\n",
       "      <td>2.0</td>\n",
       "      <td>6 days</td>\n",
       "    </tr>\n",
       "    <tr>\n",
       "      <th>1</th>\n",
       "      <td>Region A</td>\n",
       "      <td>Country 8</td>\n",
       "      <td>2021-09-16</td>\n",
       "      <td>0012E00002b5Zvf</td>\n",
       "      <td>Active</td>\n",
       "      <td>2021-10-04</td>\n",
       "      <td>Basic</td>\n",
       "      <td>2022-01-13</td>\n",
       "      <td>4.0</td>\n",
       "      <td>18 days</td>\n",
       "    </tr>\n",
       "    <tr>\n",
       "      <th>2</th>\n",
       "      <td>Region C</td>\n",
       "      <td>Country 16</td>\n",
       "      <td>2021-10-01</td>\n",
       "      <td>0012E00002b8A7b</td>\n",
       "      <td>Active</td>\n",
       "      <td>2021-10-01</td>\n",
       "      <td>Basic</td>\n",
       "      <td>NaT</td>\n",
       "      <td>1.0</td>\n",
       "      <td>0 days</td>\n",
       "    </tr>\n",
       "    <tr>\n",
       "      <th>3</th>\n",
       "      <td>Region C</td>\n",
       "      <td>Country 16</td>\n",
       "      <td>2021-10-01</td>\n",
       "      <td>0012E00002b8Ail</td>\n",
       "      <td>Active</td>\n",
       "      <td>2021-10-01</td>\n",
       "      <td>Basic</td>\n",
       "      <td>NaT</td>\n",
       "      <td>1.0</td>\n",
       "      <td>0 days</td>\n",
       "    </tr>\n",
       "    <tr>\n",
       "      <th>4</th>\n",
       "      <td>Region C</td>\n",
       "      <td>Country 16</td>\n",
       "      <td>2021-10-01</td>\n",
       "      <td>0012E00002b8AMp</td>\n",
       "      <td>Active</td>\n",
       "      <td>2021-10-01</td>\n",
       "      <td>Basic</td>\n",
       "      <td>NaT</td>\n",
       "      <td>1.0</td>\n",
       "      <td>0 days</td>\n",
       "    </tr>\n",
       "    <tr>\n",
       "      <th>...</th>\n",
       "      <td>...</td>\n",
       "      <td>...</td>\n",
       "      <td>...</td>\n",
       "      <td>...</td>\n",
       "      <td>...</td>\n",
       "      <td>...</td>\n",
       "      <td>...</td>\n",
       "      <td>...</td>\n",
       "      <td>...</td>\n",
       "      <td>...</td>\n",
       "    </tr>\n",
       "    <tr>\n",
       "      <th>38615</th>\n",
       "      <td>Region C</td>\n",
       "      <td>Country 16</td>\n",
       "      <td>2022-01-14</td>\n",
       "      <td>0016R0000378sYO</td>\n",
       "      <td>Onboarding</td>\n",
       "      <td>NaT</td>\n",
       "      <td>Basic</td>\n",
       "      <td>NaT</td>\n",
       "      <td>1.3</td>\n",
       "      <td>NaT</td>\n",
       "    </tr>\n",
       "    <tr>\n",
       "      <th>38616</th>\n",
       "      <td>Region C</td>\n",
       "      <td>Country 16</td>\n",
       "      <td>2022-01-14</td>\n",
       "      <td>0016R0000378sYT</td>\n",
       "      <td>Onboarding</td>\n",
       "      <td>NaT</td>\n",
       "      <td>Basic</td>\n",
       "      <td>NaT</td>\n",
       "      <td>1.3</td>\n",
       "      <td>NaT</td>\n",
       "    </tr>\n",
       "    <tr>\n",
       "      <th>38617</th>\n",
       "      <td>Region C</td>\n",
       "      <td>Country 16</td>\n",
       "      <td>2022-01-14</td>\n",
       "      <td>0016R0000378sYY</td>\n",
       "      <td>Onboarding</td>\n",
       "      <td>NaT</td>\n",
       "      <td>Basic</td>\n",
       "      <td>NaT</td>\n",
       "      <td>1.3</td>\n",
       "      <td>NaT</td>\n",
       "    </tr>\n",
       "    <tr>\n",
       "      <th>38618</th>\n",
       "      <td>Region C</td>\n",
       "      <td>Country 16</td>\n",
       "      <td>2022-01-15</td>\n",
       "      <td>0016R0000378vuy</td>\n",
       "      <td>Onboarding</td>\n",
       "      <td>NaT</td>\n",
       "      <td>Basic</td>\n",
       "      <td>NaT</td>\n",
       "      <td>1.3</td>\n",
       "      <td>NaT</td>\n",
       "    </tr>\n",
       "    <tr>\n",
       "      <th>38619</th>\n",
       "      <td>Region C</td>\n",
       "      <td>Country 16</td>\n",
       "      <td>2022-01-15</td>\n",
       "      <td>0016R0000378vvm</td>\n",
       "      <td>Onboarding</td>\n",
       "      <td>NaT</td>\n",
       "      <td>Basic</td>\n",
       "      <td>NaT</td>\n",
       "      <td>1.3</td>\n",
       "      <td>NaT</td>\n",
       "    </tr>\n",
       "  </tbody>\n",
       "</table>\n",
       "<p>38569 rows × 10 columns</p>\n",
       "</div>"
      ],
      "text/plain": [
       "         Region     Country First Closed Won Opp Date       Account ID  \\\n",
       "0      Region A   Country 1                2021-09-22  0012E00002b5a1J   \n",
       "1      Region A   Country 8                2021-09-16  0012E00002b5Zvf   \n",
       "2      Region C  Country 16                2021-10-01  0012E00002b8A7b   \n",
       "3      Region C  Country 16                2021-10-01  0012E00002b8Ail   \n",
       "4      Region C  Country 16                2021-10-01  0012E00002b8AMp   \n",
       "...         ...         ...                       ...              ...   \n",
       "38615  Region C  Country 16                2022-01-14  0016R0000378sYO   \n",
       "38616  Region C  Country 16                2022-01-14  0016R0000378sYT   \n",
       "38617  Region C  Country 16                2022-01-14  0016R0000378sYY   \n",
       "38618  Region C  Country 16                2022-01-15  0016R0000378vuy   \n",
       "38619  Region C  Country 16                2022-01-15  0016R0000378vvm   \n",
       "\n",
       "      CSM Status Stage Activation Date Highest Product  \\\n",
       "0               Active      2021-09-28           Basic   \n",
       "1               Active      2021-10-04           Basic   \n",
       "2               Active      2021-10-01           Basic   \n",
       "3               Active      2021-10-01           Basic   \n",
       "4               Active      2021-10-01           Basic   \n",
       "...                ...             ...             ...   \n",
       "38615       Onboarding             NaT           Basic   \n",
       "38616       Onboarding             NaT           Basic   \n",
       "38617       Onboarding             NaT           Basic   \n",
       "38618       Onboarding             NaT           Basic   \n",
       "38619       Onboarding             NaT           Basic   \n",
       "\n",
       "      Last Product usage date  # delivery partners Time to Activation  \n",
       "0                  2022-01-13                  2.0             6 days  \n",
       "1                  2022-01-13                  4.0            18 days  \n",
       "2                         NaT                  1.0             0 days  \n",
       "3                         NaT                  1.0             0 days  \n",
       "4                         NaT                  1.0             0 days  \n",
       "...                       ...                  ...                ...  \n",
       "38615                     NaT                  1.3                NaT  \n",
       "38616                     NaT                  1.3                NaT  \n",
       "38617                     NaT                  1.3                NaT  \n",
       "38618                     NaT                  1.3                NaT  \n",
       "38619                     NaT                  1.3                NaT  \n",
       "\n",
       "[38569 rows x 10 columns]"
      ]
     },
     "execution_count": 16,
     "metadata": {},
     "output_type": "execute_result"
    }
   ],
   "source": [
    "df[\"Time to Activation\"] = df[\"Activation Date\"] - df[\"First Closed Won Opp Date\"]\n",
    "df"
   ]
  },
  {
   "cell_type": "code",
   "execution_count": 17,
   "id": "531ff4a1-081d-4cb3-8709-b7f5fd126090",
   "metadata": {},
   "outputs": [],
   "source": [
    "time_mean = df[\"Time to Activation\"].mean()"
   ]
  },
  {
   "cell_type": "code",
   "execution_count": 18,
   "id": "29ba2477",
   "metadata": {},
   "outputs": [
    {
     "data": {
      "text/plain": [
       "pandas._libs.tslibs.timedeltas.Timedelta"
      ]
     },
     "execution_count": 18,
     "metadata": {},
     "output_type": "execute_result"
    }
   ],
   "source": [
    "type(time_mean)"
   ]
  },
  {
   "cell_type": "code",
   "execution_count": 19,
   "id": "65e2de7d",
   "metadata": {},
   "outputs": [],
   "source": [
    "time_mean_round = pd.Timedelta(time_mean, \"d\").days"
   ]
  },
  {
   "cell_type": "code",
   "execution_count": 20,
   "id": "f5d96508-dae2-461d-b5d3-6f22e28e082c",
   "metadata": {},
   "outputs": [
    {
     "name": "stdout",
     "output_type": "stream",
     "text": [
      "We can see that the average time from won to activation is 6 days.\n"
     ]
    }
   ],
   "source": [
    "print(f\"We can see that the average time from won to activation is {time_mean_round} days.\")"
   ]
  },
  {
   "cell_type": "markdown",
   "id": "ff07abb0-33fb-4831-ad7c-77bb7d541400",
   "metadata": {},
   "source": [
    "## Graph of CSM Stage grouped by # delivery partners"
   ]
  },
  {
   "cell_type": "code",
   "execution_count": 21,
   "id": "74aab801-9b11-4c39-b9d8-849eb9566b5c",
   "metadata": {},
   "outputs": [
    {
     "data": {
      "application/vnd.plotly.v1+json": {
       "config": {
        "plotlyServerURL": "https://plot.ly"
       },
       "data": [
        {
         "hovertemplate": "CSM Status Stage=%{x}<br># delivery partners=%{y}<extra></extra>",
         "legendgroup": "",
         "marker": {
          "color": "#636efa",
          "pattern": {
           "shape": ""
          }
         },
         "name": "",
         "orientation": "v",
         "showlegend": false,
         "textposition": "auto",
         "type": "bar",
         "x": [
          "Active",
          "Active Opportunity",
          "Blocked",
          "Churned",
          "Dead Opportunity",
          "Onboarding",
          "Paused"
         ],
         "xaxis": "x",
         "y": {
          "bdata": "CQUHBwQIBQ==",
          "dtype": "i1"
         },
         "yaxis": "y"
        }
       ],
       "layout": {
        "barmode": "relative",
        "legend": {
         "tracegroupgap": 0
        },
        "margin": {
         "t": 60
        },
        "template": {
         "data": {
          "bar": [
           {
            "error_x": {
             "color": "#2a3f5f"
            },
            "error_y": {
             "color": "#2a3f5f"
            },
            "marker": {
             "line": {
              "color": "#E5ECF6",
              "width": 0.5
             },
             "pattern": {
              "fillmode": "overlay",
              "size": 10,
              "solidity": 0.2
             }
            },
            "type": "bar"
           }
          ],
          "barpolar": [
           {
            "marker": {
             "line": {
              "color": "#E5ECF6",
              "width": 0.5
             },
             "pattern": {
              "fillmode": "overlay",
              "size": 10,
              "solidity": 0.2
             }
            },
            "type": "barpolar"
           }
          ],
          "carpet": [
           {
            "aaxis": {
             "endlinecolor": "#2a3f5f",
             "gridcolor": "white",
             "linecolor": "white",
             "minorgridcolor": "white",
             "startlinecolor": "#2a3f5f"
            },
            "baxis": {
             "endlinecolor": "#2a3f5f",
             "gridcolor": "white",
             "linecolor": "white",
             "minorgridcolor": "white",
             "startlinecolor": "#2a3f5f"
            },
            "type": "carpet"
           }
          ],
          "choropleth": [
           {
            "colorbar": {
             "outlinewidth": 0,
             "ticks": ""
            },
            "type": "choropleth"
           }
          ],
          "contour": [
           {
            "colorbar": {
             "outlinewidth": 0,
             "ticks": ""
            },
            "colorscale": [
             [
              0,
              "#0d0887"
             ],
             [
              0.1111111111111111,
              "#46039f"
             ],
             [
              0.2222222222222222,
              "#7201a8"
             ],
             [
              0.3333333333333333,
              "#9c179e"
             ],
             [
              0.4444444444444444,
              "#bd3786"
             ],
             [
              0.5555555555555556,
              "#d8576b"
             ],
             [
              0.6666666666666666,
              "#ed7953"
             ],
             [
              0.7777777777777778,
              "#fb9f3a"
             ],
             [
              0.8888888888888888,
              "#fdca26"
             ],
             [
              1,
              "#f0f921"
             ]
            ],
            "type": "contour"
           }
          ],
          "contourcarpet": [
           {
            "colorbar": {
             "outlinewidth": 0,
             "ticks": ""
            },
            "type": "contourcarpet"
           }
          ],
          "heatmap": [
           {
            "colorbar": {
             "outlinewidth": 0,
             "ticks": ""
            },
            "colorscale": [
             [
              0,
              "#0d0887"
             ],
             [
              0.1111111111111111,
              "#46039f"
             ],
             [
              0.2222222222222222,
              "#7201a8"
             ],
             [
              0.3333333333333333,
              "#9c179e"
             ],
             [
              0.4444444444444444,
              "#bd3786"
             ],
             [
              0.5555555555555556,
              "#d8576b"
             ],
             [
              0.6666666666666666,
              "#ed7953"
             ],
             [
              0.7777777777777778,
              "#fb9f3a"
             ],
             [
              0.8888888888888888,
              "#fdca26"
             ],
             [
              1,
              "#f0f921"
             ]
            ],
            "type": "heatmap"
           }
          ],
          "histogram": [
           {
            "marker": {
             "pattern": {
              "fillmode": "overlay",
              "size": 10,
              "solidity": 0.2
             }
            },
            "type": "histogram"
           }
          ],
          "histogram2d": [
           {
            "colorbar": {
             "outlinewidth": 0,
             "ticks": ""
            },
            "colorscale": [
             [
              0,
              "#0d0887"
             ],
             [
              0.1111111111111111,
              "#46039f"
             ],
             [
              0.2222222222222222,
              "#7201a8"
             ],
             [
              0.3333333333333333,
              "#9c179e"
             ],
             [
              0.4444444444444444,
              "#bd3786"
             ],
             [
              0.5555555555555556,
              "#d8576b"
             ],
             [
              0.6666666666666666,
              "#ed7953"
             ],
             [
              0.7777777777777778,
              "#fb9f3a"
             ],
             [
              0.8888888888888888,
              "#fdca26"
             ],
             [
              1,
              "#f0f921"
             ]
            ],
            "type": "histogram2d"
           }
          ],
          "histogram2dcontour": [
           {
            "colorbar": {
             "outlinewidth": 0,
             "ticks": ""
            },
            "colorscale": [
             [
              0,
              "#0d0887"
             ],
             [
              0.1111111111111111,
              "#46039f"
             ],
             [
              0.2222222222222222,
              "#7201a8"
             ],
             [
              0.3333333333333333,
              "#9c179e"
             ],
             [
              0.4444444444444444,
              "#bd3786"
             ],
             [
              0.5555555555555556,
              "#d8576b"
             ],
             [
              0.6666666666666666,
              "#ed7953"
             ],
             [
              0.7777777777777778,
              "#fb9f3a"
             ],
             [
              0.8888888888888888,
              "#fdca26"
             ],
             [
              1,
              "#f0f921"
             ]
            ],
            "type": "histogram2dcontour"
           }
          ],
          "mesh3d": [
           {
            "colorbar": {
             "outlinewidth": 0,
             "ticks": ""
            },
            "type": "mesh3d"
           }
          ],
          "parcoords": [
           {
            "line": {
             "colorbar": {
              "outlinewidth": 0,
              "ticks": ""
             }
            },
            "type": "parcoords"
           }
          ],
          "pie": [
           {
            "automargin": true,
            "type": "pie"
           }
          ],
          "scatter": [
           {
            "fillpattern": {
             "fillmode": "overlay",
             "size": 10,
             "solidity": 0.2
            },
            "type": "scatter"
           }
          ],
          "scatter3d": [
           {
            "line": {
             "colorbar": {
              "outlinewidth": 0,
              "ticks": ""
             }
            },
            "marker": {
             "colorbar": {
              "outlinewidth": 0,
              "ticks": ""
             }
            },
            "type": "scatter3d"
           }
          ],
          "scattercarpet": [
           {
            "marker": {
             "colorbar": {
              "outlinewidth": 0,
              "ticks": ""
             }
            },
            "type": "scattercarpet"
           }
          ],
          "scattergeo": [
           {
            "marker": {
             "colorbar": {
              "outlinewidth": 0,
              "ticks": ""
             }
            },
            "type": "scattergeo"
           }
          ],
          "scattergl": [
           {
            "marker": {
             "colorbar": {
              "outlinewidth": 0,
              "ticks": ""
             }
            },
            "type": "scattergl"
           }
          ],
          "scattermap": [
           {
            "marker": {
             "colorbar": {
              "outlinewidth": 0,
              "ticks": ""
             }
            },
            "type": "scattermap"
           }
          ],
          "scattermapbox": [
           {
            "marker": {
             "colorbar": {
              "outlinewidth": 0,
              "ticks": ""
             }
            },
            "type": "scattermapbox"
           }
          ],
          "scatterpolar": [
           {
            "marker": {
             "colorbar": {
              "outlinewidth": 0,
              "ticks": ""
             }
            },
            "type": "scatterpolar"
           }
          ],
          "scatterpolargl": [
           {
            "marker": {
             "colorbar": {
              "outlinewidth": 0,
              "ticks": ""
             }
            },
            "type": "scatterpolargl"
           }
          ],
          "scatterternary": [
           {
            "marker": {
             "colorbar": {
              "outlinewidth": 0,
              "ticks": ""
             }
            },
            "type": "scatterternary"
           }
          ],
          "surface": [
           {
            "colorbar": {
             "outlinewidth": 0,
             "ticks": ""
            },
            "colorscale": [
             [
              0,
              "#0d0887"
             ],
             [
              0.1111111111111111,
              "#46039f"
             ],
             [
              0.2222222222222222,
              "#7201a8"
             ],
             [
              0.3333333333333333,
              "#9c179e"
             ],
             [
              0.4444444444444444,
              "#bd3786"
             ],
             [
              0.5555555555555556,
              "#d8576b"
             ],
             [
              0.6666666666666666,
              "#ed7953"
             ],
             [
              0.7777777777777778,
              "#fb9f3a"
             ],
             [
              0.8888888888888888,
              "#fdca26"
             ],
             [
              1,
              "#f0f921"
             ]
            ],
            "type": "surface"
           }
          ],
          "table": [
           {
            "cells": {
             "fill": {
              "color": "#EBF0F8"
             },
             "line": {
              "color": "white"
             }
            },
            "header": {
             "fill": {
              "color": "#C8D4E3"
             },
             "line": {
              "color": "white"
             }
            },
            "type": "table"
           }
          ]
         },
         "layout": {
          "annotationdefaults": {
           "arrowcolor": "#2a3f5f",
           "arrowhead": 0,
           "arrowwidth": 1
          },
          "autotypenumbers": "strict",
          "coloraxis": {
           "colorbar": {
            "outlinewidth": 0,
            "ticks": ""
           }
          },
          "colorscale": {
           "diverging": [
            [
             0,
             "#8e0152"
            ],
            [
             0.1,
             "#c51b7d"
            ],
            [
             0.2,
             "#de77ae"
            ],
            [
             0.3,
             "#f1b6da"
            ],
            [
             0.4,
             "#fde0ef"
            ],
            [
             0.5,
             "#f7f7f7"
            ],
            [
             0.6,
             "#e6f5d0"
            ],
            [
             0.7,
             "#b8e186"
            ],
            [
             0.8,
             "#7fbc41"
            ],
            [
             0.9,
             "#4d9221"
            ],
            [
             1,
             "#276419"
            ]
           ],
           "sequential": [
            [
             0,
             "#0d0887"
            ],
            [
             0.1111111111111111,
             "#46039f"
            ],
            [
             0.2222222222222222,
             "#7201a8"
            ],
            [
             0.3333333333333333,
             "#9c179e"
            ],
            [
             0.4444444444444444,
             "#bd3786"
            ],
            [
             0.5555555555555556,
             "#d8576b"
            ],
            [
             0.6666666666666666,
             "#ed7953"
            ],
            [
             0.7777777777777778,
             "#fb9f3a"
            ],
            [
             0.8888888888888888,
             "#fdca26"
            ],
            [
             1,
             "#f0f921"
            ]
           ],
           "sequentialminus": [
            [
             0,
             "#0d0887"
            ],
            [
             0.1111111111111111,
             "#46039f"
            ],
            [
             0.2222222222222222,
             "#7201a8"
            ],
            [
             0.3333333333333333,
             "#9c179e"
            ],
            [
             0.4444444444444444,
             "#bd3786"
            ],
            [
             0.5555555555555556,
             "#d8576b"
            ],
            [
             0.6666666666666666,
             "#ed7953"
            ],
            [
             0.7777777777777778,
             "#fb9f3a"
            ],
            [
             0.8888888888888888,
             "#fdca26"
            ],
            [
             1,
             "#f0f921"
            ]
           ]
          },
          "colorway": [
           "#636efa",
           "#EF553B",
           "#00cc96",
           "#ab63fa",
           "#FFA15A",
           "#19d3f3",
           "#FF6692",
           "#B6E880",
           "#FF97FF",
           "#FECB52"
          ],
          "font": {
           "color": "#2a3f5f"
          },
          "geo": {
           "bgcolor": "white",
           "lakecolor": "white",
           "landcolor": "#E5ECF6",
           "showlakes": true,
           "showland": true,
           "subunitcolor": "white"
          },
          "hoverlabel": {
           "align": "left"
          },
          "hovermode": "closest",
          "mapbox": {
           "style": "light"
          },
          "paper_bgcolor": "white",
          "plot_bgcolor": "#E5ECF6",
          "polar": {
           "angularaxis": {
            "gridcolor": "white",
            "linecolor": "white",
            "ticks": ""
           },
           "bgcolor": "#E5ECF6",
           "radialaxis": {
            "gridcolor": "white",
            "linecolor": "white",
            "ticks": ""
           }
          },
          "scene": {
           "xaxis": {
            "backgroundcolor": "#E5ECF6",
            "gridcolor": "white",
            "gridwidth": 2,
            "linecolor": "white",
            "showbackground": true,
            "ticks": "",
            "zerolinecolor": "white"
           },
           "yaxis": {
            "backgroundcolor": "#E5ECF6",
            "gridcolor": "white",
            "gridwidth": 2,
            "linecolor": "white",
            "showbackground": true,
            "ticks": "",
            "zerolinecolor": "white"
           },
           "zaxis": {
            "backgroundcolor": "#E5ECF6",
            "gridcolor": "white",
            "gridwidth": 2,
            "linecolor": "white",
            "showbackground": true,
            "ticks": "",
            "zerolinecolor": "white"
           }
          },
          "shapedefaults": {
           "line": {
            "color": "#2a3f5f"
           }
          },
          "ternary": {
           "aaxis": {
            "gridcolor": "white",
            "linecolor": "white",
            "ticks": ""
           },
           "baxis": {
            "gridcolor": "white",
            "linecolor": "white",
            "ticks": ""
           },
           "bgcolor": "#E5ECF6",
           "caxis": {
            "gridcolor": "white",
            "linecolor": "white",
            "ticks": ""
           }
          },
          "title": {
           "x": 0.05
          },
          "xaxis": {
           "automargin": true,
           "gridcolor": "white",
           "linecolor": "white",
           "ticks": "",
           "title": {
            "standoff": 15
           },
           "zerolinecolor": "white",
           "zerolinewidth": 2
          },
          "yaxis": {
           "automargin": true,
           "gridcolor": "white",
           "linecolor": "white",
           "ticks": "",
           "title": {
            "standoff": 15
           },
           "zerolinecolor": "white",
           "zerolinewidth": 2
          }
         }
        },
        "xaxis": {
         "anchor": "y",
         "domain": [
          0,
          1
         ],
         "title": {
          "text": "CSM Status Stage"
         }
        },
        "yaxis": {
         "anchor": "x",
         "domain": [
          0,
          1
         ],
         "title": {
          "text": "# delivery partners"
         }
        }
       }
      }
     },
     "metadata": {},
     "output_type": "display_data"
    }
   ],
   "source": [
    "px.bar(df.groupby(\"CSM Status Stage\").nunique().reset_index(), x='CSM Status Stage', y='# delivery partners')"
   ]
  },
  {
   "cell_type": "markdown",
   "id": "151ed286-4274-4a90-ac1c-ba89771e75c8",
   "metadata": {},
   "source": [
    "## % of Active Accounts without Product Usage"
   ]
  },
  {
   "cell_type": "code",
   "execution_count": 22,
   "id": "26e9e1f5-b5de-4caa-a9b4-3c65c8869908",
   "metadata": {},
   "outputs": [],
   "source": [
    "active_df = df[df[\"CSM Status Stage\"] == \"Active\"]"
   ]
  },
  {
   "cell_type": "code",
   "execution_count": 23,
   "id": "4bd21a38-2efd-49d8-9d7d-4d5126484193",
   "metadata": {},
   "outputs": [],
   "source": [
    "len_lpu = len(active_df[\"Last Product usage date\"])\n",
    "lpu_nan = active_df[\"Last Product usage date\"].isnull().sum()"
   ]
  },
  {
   "cell_type": "code",
   "execution_count": 24,
   "id": "d7424ae5-b2a1-4ed0-81e3-a9194fdbb43e",
   "metadata": {},
   "outputs": [
    {
     "name": "stdout",
     "output_type": "stream",
     "text": [
      "So the percentage of 'Last product usage date' values that are NaN values is 25.073453657419776 %\n"
     ]
    }
   ],
   "source": [
    "print(f\"So the percentage of 'Last product usage date' values that are NaN values is {lpu_nan / len_lpu * 100} %\")"
   ]
  },
  {
   "cell_type": "markdown",
   "id": "139fbe7f-f1a6-473f-838a-23d5dfee7b4f",
   "metadata": {},
   "source": [
    "We can see from this that only 25% of the activated customers ever use the product, this is a valuable business insight."
   ]
  },
  {
   "cell_type": "markdown",
   "id": "20652b69-7cd2-491d-9b4a-cdd994dcd23b",
   "metadata": {},
   "source": [
    "## Most Valued Regions/Countries\n",
    "\n",
    "We can use the same filtered df (active_df) to see the countries that have the most activated accounts."
   ]
  },
  {
   "cell_type": "code",
   "execution_count": 25,
   "id": "95fe0173-43ab-4fe5-84bc-887c26c7111d",
   "metadata": {},
   "outputs": [
    {
     "data": {
      "text/plain": [
       "Country\n",
       "Country 16    68.619071\n",
       "Country 3      5.326821\n",
       "Country 2      3.773801\n",
       "Country 1      3.018278\n",
       "Country 11     2.888541\n",
       "Country 9      2.522227\n",
       "Country 6      2.453543\n",
       "Country 15     2.144465\n",
       "Country 5      2.052887\n",
       "Country 13     1.476705\n",
       "Country 8      1.232495\n",
       "Country 4      0.858549\n",
       "Country 20     0.717366\n",
       "Country 7      0.415919\n",
       "Country 14     0.400656\n",
       "Country 21     0.373946\n",
       "Country 24     0.312894\n",
       "Country 23     0.255657\n",
       "Country 17     0.244210\n",
       "Country 10     0.236578\n",
       "Country 12     0.179341\n",
       "Country 18     0.099210\n",
       "Country 19     0.087763\n",
       "Country 29     0.076315\n",
       "Country 31     0.053421\n",
       "Country 22     0.049605\n",
       "Country 25     0.038158\n",
       "Country 26     0.038158\n",
       "Country 30     0.026710\n",
       "Country 33     0.022895\n",
       "Country 28     0.003816\n",
       "Name: proportion, dtype: float64"
      ]
     },
     "execution_count": 25,
     "metadata": {},
     "output_type": "execute_result"
    }
   ],
   "source": [
    "active_df[\"Country\"].value_counts(normalize=True) * 100"
   ]
  },
  {
   "cell_type": "markdown",
   "id": "88640827-2fef-4334-9934-fc0d6957c8c7",
   "metadata": {},
   "source": [
    "So we can see that country 16 makes up nearly 70% of the total activated customers.\n",
    "\n",
    "This is better demonstrated graphically, however we want the results ordered so we should remove the 'Country' part of the [\"Country\"] column first."
   ]
  },
  {
   "cell_type": "code",
   "execution_count": 26,
   "id": "4e2551b5-9b05-4aad-99da-611b446e6647",
   "metadata": {},
   "outputs": [
    {
     "name": "stderr",
     "output_type": "stream",
     "text": [
      "C:\\Users\\42llo\\AppData\\Local\\Temp\\ipykernel_1936\\2778443627.py:1: SettingWithCopyWarning:\n",
      "\n",
      "\n",
      "A value is trying to be set on a copy of a slice from a DataFrame.\n",
      "Try using .loc[row_indexer,col_indexer] = value instead\n",
      "\n",
      "See the caveats in the documentation: https://pandas.pydata.org/pandas-docs/stable/user_guide/indexing.html#returning-a-view-versus-a-copy\n",
      "\n"
     ]
    }
   ],
   "source": [
    "active_df[\"Country\"] = active_df[\"Country\"].replace(\"Country \", \"\", regex=True)\n",
    "# active_df[\"Country\"] = active_df[\"Country\"]"
   ]
  },
  {
   "cell_type": "markdown",
   "id": "5d755bca-a809-441e-b1fb-18939876432d",
   "metadata": {},
   "source": [
    "## Graph of Accounts grouped by Country"
   ]
  },
  {
   "cell_type": "code",
   "execution_count": 27,
   "id": "4c5c585a-9ad9-4cbe-a190-412fccf57a86",
   "metadata": {},
   "outputs": [
    {
     "data": {
      "application/vnd.plotly.v1+json": {
       "config": {
        "plotlyServerURL": "https://plot.ly"
       },
       "data": [
        {
         "hovertemplate": "Country=%{x}<br>Account ID=%{y}<extra></extra>",
         "legendgroup": "",
         "marker": {
          "color": "#636efa",
          "pattern": {
           "shape": ""
          }
         },
         "name": "",
         "orientation": "v",
         "showlegend": false,
         "textposition": "auto",
         "type": "bar",
         "x": [
          "1",
          "10",
          "11",
          "12",
          "13",
          "14",
          "15",
          "16",
          "17",
          "18",
          "19",
          "2",
          "20",
          "21",
          "22",
          "23",
          "24",
          "25",
          "26",
          "28",
          "29",
          "3",
          "30",
          "31",
          "33",
          "4",
          "5",
          "6",
          "7",
          "8",
          "9"
         ],
         "xaxis": "x",
         "y": {
          "bdata": "FwM+APUCLwCDAWkAMgI/RkAAGgAXAN0DvABiAA0AQwBSAAoACgABABQAdAUHAA4ABgDhABoCgwJtAEMBlQI=",
          "dtype": "i2"
         },
         "yaxis": "y"
        }
       ],
       "layout": {
        "barmode": "relative",
        "legend": {
         "tracegroupgap": 0
        },
        "margin": {
         "t": 60
        },
        "template": {
         "data": {
          "bar": [
           {
            "error_x": {
             "color": "#2a3f5f"
            },
            "error_y": {
             "color": "#2a3f5f"
            },
            "marker": {
             "line": {
              "color": "#E5ECF6",
              "width": 0.5
             },
             "pattern": {
              "fillmode": "overlay",
              "size": 10,
              "solidity": 0.2
             }
            },
            "type": "bar"
           }
          ],
          "barpolar": [
           {
            "marker": {
             "line": {
              "color": "#E5ECF6",
              "width": 0.5
             },
             "pattern": {
              "fillmode": "overlay",
              "size": 10,
              "solidity": 0.2
             }
            },
            "type": "barpolar"
           }
          ],
          "carpet": [
           {
            "aaxis": {
             "endlinecolor": "#2a3f5f",
             "gridcolor": "white",
             "linecolor": "white",
             "minorgridcolor": "white",
             "startlinecolor": "#2a3f5f"
            },
            "baxis": {
             "endlinecolor": "#2a3f5f",
             "gridcolor": "white",
             "linecolor": "white",
             "minorgridcolor": "white",
             "startlinecolor": "#2a3f5f"
            },
            "type": "carpet"
           }
          ],
          "choropleth": [
           {
            "colorbar": {
             "outlinewidth": 0,
             "ticks": ""
            },
            "type": "choropleth"
           }
          ],
          "contour": [
           {
            "colorbar": {
             "outlinewidth": 0,
             "ticks": ""
            },
            "colorscale": [
             [
              0,
              "#0d0887"
             ],
             [
              0.1111111111111111,
              "#46039f"
             ],
             [
              0.2222222222222222,
              "#7201a8"
             ],
             [
              0.3333333333333333,
              "#9c179e"
             ],
             [
              0.4444444444444444,
              "#bd3786"
             ],
             [
              0.5555555555555556,
              "#d8576b"
             ],
             [
              0.6666666666666666,
              "#ed7953"
             ],
             [
              0.7777777777777778,
              "#fb9f3a"
             ],
             [
              0.8888888888888888,
              "#fdca26"
             ],
             [
              1,
              "#f0f921"
             ]
            ],
            "type": "contour"
           }
          ],
          "contourcarpet": [
           {
            "colorbar": {
             "outlinewidth": 0,
             "ticks": ""
            },
            "type": "contourcarpet"
           }
          ],
          "heatmap": [
           {
            "colorbar": {
             "outlinewidth": 0,
             "ticks": ""
            },
            "colorscale": [
             [
              0,
              "#0d0887"
             ],
             [
              0.1111111111111111,
              "#46039f"
             ],
             [
              0.2222222222222222,
              "#7201a8"
             ],
             [
              0.3333333333333333,
              "#9c179e"
             ],
             [
              0.4444444444444444,
              "#bd3786"
             ],
             [
              0.5555555555555556,
              "#d8576b"
             ],
             [
              0.6666666666666666,
              "#ed7953"
             ],
             [
              0.7777777777777778,
              "#fb9f3a"
             ],
             [
              0.8888888888888888,
              "#fdca26"
             ],
             [
              1,
              "#f0f921"
             ]
            ],
            "type": "heatmap"
           }
          ],
          "histogram": [
           {
            "marker": {
             "pattern": {
              "fillmode": "overlay",
              "size": 10,
              "solidity": 0.2
             }
            },
            "type": "histogram"
           }
          ],
          "histogram2d": [
           {
            "colorbar": {
             "outlinewidth": 0,
             "ticks": ""
            },
            "colorscale": [
             [
              0,
              "#0d0887"
             ],
             [
              0.1111111111111111,
              "#46039f"
             ],
             [
              0.2222222222222222,
              "#7201a8"
             ],
             [
              0.3333333333333333,
              "#9c179e"
             ],
             [
              0.4444444444444444,
              "#bd3786"
             ],
             [
              0.5555555555555556,
              "#d8576b"
             ],
             [
              0.6666666666666666,
              "#ed7953"
             ],
             [
              0.7777777777777778,
              "#fb9f3a"
             ],
             [
              0.8888888888888888,
              "#fdca26"
             ],
             [
              1,
              "#f0f921"
             ]
            ],
            "type": "histogram2d"
           }
          ],
          "histogram2dcontour": [
           {
            "colorbar": {
             "outlinewidth": 0,
             "ticks": ""
            },
            "colorscale": [
             [
              0,
              "#0d0887"
             ],
             [
              0.1111111111111111,
              "#46039f"
             ],
             [
              0.2222222222222222,
              "#7201a8"
             ],
             [
              0.3333333333333333,
              "#9c179e"
             ],
             [
              0.4444444444444444,
              "#bd3786"
             ],
             [
              0.5555555555555556,
              "#d8576b"
             ],
             [
              0.6666666666666666,
              "#ed7953"
             ],
             [
              0.7777777777777778,
              "#fb9f3a"
             ],
             [
              0.8888888888888888,
              "#fdca26"
             ],
             [
              1,
              "#f0f921"
             ]
            ],
            "type": "histogram2dcontour"
           }
          ],
          "mesh3d": [
           {
            "colorbar": {
             "outlinewidth": 0,
             "ticks": ""
            },
            "type": "mesh3d"
           }
          ],
          "parcoords": [
           {
            "line": {
             "colorbar": {
              "outlinewidth": 0,
              "ticks": ""
             }
            },
            "type": "parcoords"
           }
          ],
          "pie": [
           {
            "automargin": true,
            "type": "pie"
           }
          ],
          "scatter": [
           {
            "fillpattern": {
             "fillmode": "overlay",
             "size": 10,
             "solidity": 0.2
            },
            "type": "scatter"
           }
          ],
          "scatter3d": [
           {
            "line": {
             "colorbar": {
              "outlinewidth": 0,
              "ticks": ""
             }
            },
            "marker": {
             "colorbar": {
              "outlinewidth": 0,
              "ticks": ""
             }
            },
            "type": "scatter3d"
           }
          ],
          "scattercarpet": [
           {
            "marker": {
             "colorbar": {
              "outlinewidth": 0,
              "ticks": ""
             }
            },
            "type": "scattercarpet"
           }
          ],
          "scattergeo": [
           {
            "marker": {
             "colorbar": {
              "outlinewidth": 0,
              "ticks": ""
             }
            },
            "type": "scattergeo"
           }
          ],
          "scattergl": [
           {
            "marker": {
             "colorbar": {
              "outlinewidth": 0,
              "ticks": ""
             }
            },
            "type": "scattergl"
           }
          ],
          "scattermap": [
           {
            "marker": {
             "colorbar": {
              "outlinewidth": 0,
              "ticks": ""
             }
            },
            "type": "scattermap"
           }
          ],
          "scattermapbox": [
           {
            "marker": {
             "colorbar": {
              "outlinewidth": 0,
              "ticks": ""
             }
            },
            "type": "scattermapbox"
           }
          ],
          "scatterpolar": [
           {
            "marker": {
             "colorbar": {
              "outlinewidth": 0,
              "ticks": ""
             }
            },
            "type": "scatterpolar"
           }
          ],
          "scatterpolargl": [
           {
            "marker": {
             "colorbar": {
              "outlinewidth": 0,
              "ticks": ""
             }
            },
            "type": "scatterpolargl"
           }
          ],
          "scatterternary": [
           {
            "marker": {
             "colorbar": {
              "outlinewidth": 0,
              "ticks": ""
             }
            },
            "type": "scatterternary"
           }
          ],
          "surface": [
           {
            "colorbar": {
             "outlinewidth": 0,
             "ticks": ""
            },
            "colorscale": [
             [
              0,
              "#0d0887"
             ],
             [
              0.1111111111111111,
              "#46039f"
             ],
             [
              0.2222222222222222,
              "#7201a8"
             ],
             [
              0.3333333333333333,
              "#9c179e"
             ],
             [
              0.4444444444444444,
              "#bd3786"
             ],
             [
              0.5555555555555556,
              "#d8576b"
             ],
             [
              0.6666666666666666,
              "#ed7953"
             ],
             [
              0.7777777777777778,
              "#fb9f3a"
             ],
             [
              0.8888888888888888,
              "#fdca26"
             ],
             [
              1,
              "#f0f921"
             ]
            ],
            "type": "surface"
           }
          ],
          "table": [
           {
            "cells": {
             "fill": {
              "color": "#EBF0F8"
             },
             "line": {
              "color": "white"
             }
            },
            "header": {
             "fill": {
              "color": "#C8D4E3"
             },
             "line": {
              "color": "white"
             }
            },
            "type": "table"
           }
          ]
         },
         "layout": {
          "annotationdefaults": {
           "arrowcolor": "#2a3f5f",
           "arrowhead": 0,
           "arrowwidth": 1
          },
          "autotypenumbers": "strict",
          "coloraxis": {
           "colorbar": {
            "outlinewidth": 0,
            "ticks": ""
           }
          },
          "colorscale": {
           "diverging": [
            [
             0,
             "#8e0152"
            ],
            [
             0.1,
             "#c51b7d"
            ],
            [
             0.2,
             "#de77ae"
            ],
            [
             0.3,
             "#f1b6da"
            ],
            [
             0.4,
             "#fde0ef"
            ],
            [
             0.5,
             "#f7f7f7"
            ],
            [
             0.6,
             "#e6f5d0"
            ],
            [
             0.7,
             "#b8e186"
            ],
            [
             0.8,
             "#7fbc41"
            ],
            [
             0.9,
             "#4d9221"
            ],
            [
             1,
             "#276419"
            ]
           ],
           "sequential": [
            [
             0,
             "#0d0887"
            ],
            [
             0.1111111111111111,
             "#46039f"
            ],
            [
             0.2222222222222222,
             "#7201a8"
            ],
            [
             0.3333333333333333,
             "#9c179e"
            ],
            [
             0.4444444444444444,
             "#bd3786"
            ],
            [
             0.5555555555555556,
             "#d8576b"
            ],
            [
             0.6666666666666666,
             "#ed7953"
            ],
            [
             0.7777777777777778,
             "#fb9f3a"
            ],
            [
             0.8888888888888888,
             "#fdca26"
            ],
            [
             1,
             "#f0f921"
            ]
           ],
           "sequentialminus": [
            [
             0,
             "#0d0887"
            ],
            [
             0.1111111111111111,
             "#46039f"
            ],
            [
             0.2222222222222222,
             "#7201a8"
            ],
            [
             0.3333333333333333,
             "#9c179e"
            ],
            [
             0.4444444444444444,
             "#bd3786"
            ],
            [
             0.5555555555555556,
             "#d8576b"
            ],
            [
             0.6666666666666666,
             "#ed7953"
            ],
            [
             0.7777777777777778,
             "#fb9f3a"
            ],
            [
             0.8888888888888888,
             "#fdca26"
            ],
            [
             1,
             "#f0f921"
            ]
           ]
          },
          "colorway": [
           "#636efa",
           "#EF553B",
           "#00cc96",
           "#ab63fa",
           "#FFA15A",
           "#19d3f3",
           "#FF6692",
           "#B6E880",
           "#FF97FF",
           "#FECB52"
          ],
          "font": {
           "color": "#2a3f5f"
          },
          "geo": {
           "bgcolor": "white",
           "lakecolor": "white",
           "landcolor": "#E5ECF6",
           "showlakes": true,
           "showland": true,
           "subunitcolor": "white"
          },
          "hoverlabel": {
           "align": "left"
          },
          "hovermode": "closest",
          "mapbox": {
           "style": "light"
          },
          "paper_bgcolor": "white",
          "plot_bgcolor": "#E5ECF6",
          "polar": {
           "angularaxis": {
            "gridcolor": "white",
            "linecolor": "white",
            "ticks": ""
           },
           "bgcolor": "#E5ECF6",
           "radialaxis": {
            "gridcolor": "white",
            "linecolor": "white",
            "ticks": ""
           }
          },
          "scene": {
           "xaxis": {
            "backgroundcolor": "#E5ECF6",
            "gridcolor": "white",
            "gridwidth": 2,
            "linecolor": "white",
            "showbackground": true,
            "ticks": "",
            "zerolinecolor": "white"
           },
           "yaxis": {
            "backgroundcolor": "#E5ECF6",
            "gridcolor": "white",
            "gridwidth": 2,
            "linecolor": "white",
            "showbackground": true,
            "ticks": "",
            "zerolinecolor": "white"
           },
           "zaxis": {
            "backgroundcolor": "#E5ECF6",
            "gridcolor": "white",
            "gridwidth": 2,
            "linecolor": "white",
            "showbackground": true,
            "ticks": "",
            "zerolinecolor": "white"
           }
          },
          "shapedefaults": {
           "line": {
            "color": "#2a3f5f"
           }
          },
          "ternary": {
           "aaxis": {
            "gridcolor": "white",
            "linecolor": "white",
            "ticks": ""
           },
           "baxis": {
            "gridcolor": "white",
            "linecolor": "white",
            "ticks": ""
           },
           "bgcolor": "#E5ECF6",
           "caxis": {
            "gridcolor": "white",
            "linecolor": "white",
            "ticks": ""
           }
          },
          "title": {
           "x": 0.05
          },
          "xaxis": {
           "automargin": true,
           "gridcolor": "white",
           "linecolor": "white",
           "ticks": "",
           "title": {
            "standoff": 15
           },
           "zerolinecolor": "white",
           "zerolinewidth": 2
          },
          "yaxis": {
           "automargin": true,
           "gridcolor": "white",
           "linecolor": "white",
           "ticks": "",
           "title": {
            "standoff": 15
           },
           "zerolinecolor": "white",
           "zerolinewidth": 2
          }
         }
        },
        "xaxis": {
         "anchor": "y",
         "domain": [
          0,
          1
         ],
         "title": {
          "text": "Country"
         }
        },
        "yaxis": {
         "anchor": "x",
         "domain": [
          0,
          1
         ],
         "title": {
          "text": "Account ID"
         }
        }
       }
      }
     },
     "metadata": {},
     "output_type": "display_data"
    }
   ],
   "source": [
    "px.bar(active_df.groupby(\"Country\").nunique().reset_index(), x='Country', y='Account ID')"
   ]
  },
  {
   "cell_type": "markdown",
   "id": "798af0ca-1ef4-4d9e-a175-61f53477fc48",
   "metadata": {},
   "source": [
    "# Business Insight Summary\n",
    "\n",
    "- __70%__ of total onboarded customers stem from a single country, this means that the country accounts for most business and should be prioritised.\n",
    "- __30%__ of Opportunities Won never become active users.\n",
    "- __25%__ of Active Accounts never use the product.\n",
    "- The average time from \"Opportunity Won\" to \"Active\" status is __7 days__, and varies willdly, this could be an area for improvement.\n",
    "- Faster times from \"Opportunity Won\" to \"Active\" status increase login's and usage."
   ]
  },
  {
   "cell_type": "code",
   "execution_count": 28,
   "id": "458fa011",
   "metadata": {},
   "outputs": [],
   "source": [
    "time_df = df.dropna(subset=[\"Time to Activation\"])\n",
    "\n",
    "time_df = time_df[time_df[\"Time to Activation\"].dt.days >= 0]\n",
    "\n",
    "time_df = time_df.groupby(\"Region\")[\"Time to Activation\"].mean().reset_index()\n",
    "\n",
    "time_df[\"Time to Activation\"] = time_df[\"Time to Activation\"].dt.days"
   ]
  },
  {
   "cell_type": "code",
   "execution_count": 29,
   "id": "689237a8",
   "metadata": {},
   "outputs": [],
   "source": [
    "df[\"# delivery partners\"] = df[\"# delivery partners\"].replace(1.3, 1.0).astype(int)"
   ]
  },
  {
   "cell_type": "code",
   "execution_count": 30,
   "id": "89638a2a-40bd-430c-aab6-c61076c6b2df",
   "metadata": {},
   "outputs": [],
   "source": [
    "df.to_csv(\"Data/clean_finished.csv\", index=False)\n",
    "time_df.to_csv(\"Data/time_df.csv\", index=False)\n"
   ]
  },
  {
   "cell_type": "code",
   "execution_count": 31,
   "id": "84c893a6",
   "metadata": {},
   "outputs": [
    {
     "data": {
      "application/vnd.plotly.v1+json": {
       "config": {
        "plotlyServerURL": "https://plot.ly"
       },
       "data": [
        {
         "hovertemplate": "Region=%{x}<br>Time to Activation=%{y}<extra></extra>",
         "legendgroup": "",
         "marker": {
          "color": "#636efa",
          "pattern": {
           "shape": ""
          }
         },
         "name": "",
         "orientation": "v",
         "showlegend": false,
         "textposition": "auto",
         "type": "bar",
         "x": [
          "Region A",
          "Region B",
          "Region C",
          "Region D"
         ],
         "xaxis": "x",
         "y": {
          "bdata": "DA8EDg==",
          "dtype": "i1"
         },
         "yaxis": "y"
        }
       ],
       "layout": {
        "barmode": "relative",
        "legend": {
         "tracegroupgap": 0
        },
        "margin": {
         "t": 60
        },
        "template": {
         "data": {
          "bar": [
           {
            "error_x": {
             "color": "#2a3f5f"
            },
            "error_y": {
             "color": "#2a3f5f"
            },
            "marker": {
             "line": {
              "color": "#E5ECF6",
              "width": 0.5
             },
             "pattern": {
              "fillmode": "overlay",
              "size": 10,
              "solidity": 0.2
             }
            },
            "type": "bar"
           }
          ],
          "barpolar": [
           {
            "marker": {
             "line": {
              "color": "#E5ECF6",
              "width": 0.5
             },
             "pattern": {
              "fillmode": "overlay",
              "size": 10,
              "solidity": 0.2
             }
            },
            "type": "barpolar"
           }
          ],
          "carpet": [
           {
            "aaxis": {
             "endlinecolor": "#2a3f5f",
             "gridcolor": "white",
             "linecolor": "white",
             "minorgridcolor": "white",
             "startlinecolor": "#2a3f5f"
            },
            "baxis": {
             "endlinecolor": "#2a3f5f",
             "gridcolor": "white",
             "linecolor": "white",
             "minorgridcolor": "white",
             "startlinecolor": "#2a3f5f"
            },
            "type": "carpet"
           }
          ],
          "choropleth": [
           {
            "colorbar": {
             "outlinewidth": 0,
             "ticks": ""
            },
            "type": "choropleth"
           }
          ],
          "contour": [
           {
            "colorbar": {
             "outlinewidth": 0,
             "ticks": ""
            },
            "colorscale": [
             [
              0,
              "#0d0887"
             ],
             [
              0.1111111111111111,
              "#46039f"
             ],
             [
              0.2222222222222222,
              "#7201a8"
             ],
             [
              0.3333333333333333,
              "#9c179e"
             ],
             [
              0.4444444444444444,
              "#bd3786"
             ],
             [
              0.5555555555555556,
              "#d8576b"
             ],
             [
              0.6666666666666666,
              "#ed7953"
             ],
             [
              0.7777777777777778,
              "#fb9f3a"
             ],
             [
              0.8888888888888888,
              "#fdca26"
             ],
             [
              1,
              "#f0f921"
             ]
            ],
            "type": "contour"
           }
          ],
          "contourcarpet": [
           {
            "colorbar": {
             "outlinewidth": 0,
             "ticks": ""
            },
            "type": "contourcarpet"
           }
          ],
          "heatmap": [
           {
            "colorbar": {
             "outlinewidth": 0,
             "ticks": ""
            },
            "colorscale": [
             [
              0,
              "#0d0887"
             ],
             [
              0.1111111111111111,
              "#46039f"
             ],
             [
              0.2222222222222222,
              "#7201a8"
             ],
             [
              0.3333333333333333,
              "#9c179e"
             ],
             [
              0.4444444444444444,
              "#bd3786"
             ],
             [
              0.5555555555555556,
              "#d8576b"
             ],
             [
              0.6666666666666666,
              "#ed7953"
             ],
             [
              0.7777777777777778,
              "#fb9f3a"
             ],
             [
              0.8888888888888888,
              "#fdca26"
             ],
             [
              1,
              "#f0f921"
             ]
            ],
            "type": "heatmap"
           }
          ],
          "histogram": [
           {
            "marker": {
             "pattern": {
              "fillmode": "overlay",
              "size": 10,
              "solidity": 0.2
             }
            },
            "type": "histogram"
           }
          ],
          "histogram2d": [
           {
            "colorbar": {
             "outlinewidth": 0,
             "ticks": ""
            },
            "colorscale": [
             [
              0,
              "#0d0887"
             ],
             [
              0.1111111111111111,
              "#46039f"
             ],
             [
              0.2222222222222222,
              "#7201a8"
             ],
             [
              0.3333333333333333,
              "#9c179e"
             ],
             [
              0.4444444444444444,
              "#bd3786"
             ],
             [
              0.5555555555555556,
              "#d8576b"
             ],
             [
              0.6666666666666666,
              "#ed7953"
             ],
             [
              0.7777777777777778,
              "#fb9f3a"
             ],
             [
              0.8888888888888888,
              "#fdca26"
             ],
             [
              1,
              "#f0f921"
             ]
            ],
            "type": "histogram2d"
           }
          ],
          "histogram2dcontour": [
           {
            "colorbar": {
             "outlinewidth": 0,
             "ticks": ""
            },
            "colorscale": [
             [
              0,
              "#0d0887"
             ],
             [
              0.1111111111111111,
              "#46039f"
             ],
             [
              0.2222222222222222,
              "#7201a8"
             ],
             [
              0.3333333333333333,
              "#9c179e"
             ],
             [
              0.4444444444444444,
              "#bd3786"
             ],
             [
              0.5555555555555556,
              "#d8576b"
             ],
             [
              0.6666666666666666,
              "#ed7953"
             ],
             [
              0.7777777777777778,
              "#fb9f3a"
             ],
             [
              0.8888888888888888,
              "#fdca26"
             ],
             [
              1,
              "#f0f921"
             ]
            ],
            "type": "histogram2dcontour"
           }
          ],
          "mesh3d": [
           {
            "colorbar": {
             "outlinewidth": 0,
             "ticks": ""
            },
            "type": "mesh3d"
           }
          ],
          "parcoords": [
           {
            "line": {
             "colorbar": {
              "outlinewidth": 0,
              "ticks": ""
             }
            },
            "type": "parcoords"
           }
          ],
          "pie": [
           {
            "automargin": true,
            "type": "pie"
           }
          ],
          "scatter": [
           {
            "fillpattern": {
             "fillmode": "overlay",
             "size": 10,
             "solidity": 0.2
            },
            "type": "scatter"
           }
          ],
          "scatter3d": [
           {
            "line": {
             "colorbar": {
              "outlinewidth": 0,
              "ticks": ""
             }
            },
            "marker": {
             "colorbar": {
              "outlinewidth": 0,
              "ticks": ""
             }
            },
            "type": "scatter3d"
           }
          ],
          "scattercarpet": [
           {
            "marker": {
             "colorbar": {
              "outlinewidth": 0,
              "ticks": ""
             }
            },
            "type": "scattercarpet"
           }
          ],
          "scattergeo": [
           {
            "marker": {
             "colorbar": {
              "outlinewidth": 0,
              "ticks": ""
             }
            },
            "type": "scattergeo"
           }
          ],
          "scattergl": [
           {
            "marker": {
             "colorbar": {
              "outlinewidth": 0,
              "ticks": ""
             }
            },
            "type": "scattergl"
           }
          ],
          "scattermap": [
           {
            "marker": {
             "colorbar": {
              "outlinewidth": 0,
              "ticks": ""
             }
            },
            "type": "scattermap"
           }
          ],
          "scattermapbox": [
           {
            "marker": {
             "colorbar": {
              "outlinewidth": 0,
              "ticks": ""
             }
            },
            "type": "scattermapbox"
           }
          ],
          "scatterpolar": [
           {
            "marker": {
             "colorbar": {
              "outlinewidth": 0,
              "ticks": ""
             }
            },
            "type": "scatterpolar"
           }
          ],
          "scatterpolargl": [
           {
            "marker": {
             "colorbar": {
              "outlinewidth": 0,
              "ticks": ""
             }
            },
            "type": "scatterpolargl"
           }
          ],
          "scatterternary": [
           {
            "marker": {
             "colorbar": {
              "outlinewidth": 0,
              "ticks": ""
             }
            },
            "type": "scatterternary"
           }
          ],
          "surface": [
           {
            "colorbar": {
             "outlinewidth": 0,
             "ticks": ""
            },
            "colorscale": [
             [
              0,
              "#0d0887"
             ],
             [
              0.1111111111111111,
              "#46039f"
             ],
             [
              0.2222222222222222,
              "#7201a8"
             ],
             [
              0.3333333333333333,
              "#9c179e"
             ],
             [
              0.4444444444444444,
              "#bd3786"
             ],
             [
              0.5555555555555556,
              "#d8576b"
             ],
             [
              0.6666666666666666,
              "#ed7953"
             ],
             [
              0.7777777777777778,
              "#fb9f3a"
             ],
             [
              0.8888888888888888,
              "#fdca26"
             ],
             [
              1,
              "#f0f921"
             ]
            ],
            "type": "surface"
           }
          ],
          "table": [
           {
            "cells": {
             "fill": {
              "color": "#EBF0F8"
             },
             "line": {
              "color": "white"
             }
            },
            "header": {
             "fill": {
              "color": "#C8D4E3"
             },
             "line": {
              "color": "white"
             }
            },
            "type": "table"
           }
          ]
         },
         "layout": {
          "annotationdefaults": {
           "arrowcolor": "#2a3f5f",
           "arrowhead": 0,
           "arrowwidth": 1
          },
          "autotypenumbers": "strict",
          "coloraxis": {
           "colorbar": {
            "outlinewidth": 0,
            "ticks": ""
           }
          },
          "colorscale": {
           "diverging": [
            [
             0,
             "#8e0152"
            ],
            [
             0.1,
             "#c51b7d"
            ],
            [
             0.2,
             "#de77ae"
            ],
            [
             0.3,
             "#f1b6da"
            ],
            [
             0.4,
             "#fde0ef"
            ],
            [
             0.5,
             "#f7f7f7"
            ],
            [
             0.6,
             "#e6f5d0"
            ],
            [
             0.7,
             "#b8e186"
            ],
            [
             0.8,
             "#7fbc41"
            ],
            [
             0.9,
             "#4d9221"
            ],
            [
             1,
             "#276419"
            ]
           ],
           "sequential": [
            [
             0,
             "#0d0887"
            ],
            [
             0.1111111111111111,
             "#46039f"
            ],
            [
             0.2222222222222222,
             "#7201a8"
            ],
            [
             0.3333333333333333,
             "#9c179e"
            ],
            [
             0.4444444444444444,
             "#bd3786"
            ],
            [
             0.5555555555555556,
             "#d8576b"
            ],
            [
             0.6666666666666666,
             "#ed7953"
            ],
            [
             0.7777777777777778,
             "#fb9f3a"
            ],
            [
             0.8888888888888888,
             "#fdca26"
            ],
            [
             1,
             "#f0f921"
            ]
           ],
           "sequentialminus": [
            [
             0,
             "#0d0887"
            ],
            [
             0.1111111111111111,
             "#46039f"
            ],
            [
             0.2222222222222222,
             "#7201a8"
            ],
            [
             0.3333333333333333,
             "#9c179e"
            ],
            [
             0.4444444444444444,
             "#bd3786"
            ],
            [
             0.5555555555555556,
             "#d8576b"
            ],
            [
             0.6666666666666666,
             "#ed7953"
            ],
            [
             0.7777777777777778,
             "#fb9f3a"
            ],
            [
             0.8888888888888888,
             "#fdca26"
            ],
            [
             1,
             "#f0f921"
            ]
           ]
          },
          "colorway": [
           "#636efa",
           "#EF553B",
           "#00cc96",
           "#ab63fa",
           "#FFA15A",
           "#19d3f3",
           "#FF6692",
           "#B6E880",
           "#FF97FF",
           "#FECB52"
          ],
          "font": {
           "color": "#2a3f5f"
          },
          "geo": {
           "bgcolor": "white",
           "lakecolor": "white",
           "landcolor": "#E5ECF6",
           "showlakes": true,
           "showland": true,
           "subunitcolor": "white"
          },
          "hoverlabel": {
           "align": "left"
          },
          "hovermode": "closest",
          "mapbox": {
           "style": "light"
          },
          "paper_bgcolor": "white",
          "plot_bgcolor": "#E5ECF6",
          "polar": {
           "angularaxis": {
            "gridcolor": "white",
            "linecolor": "white",
            "ticks": ""
           },
           "bgcolor": "#E5ECF6",
           "radialaxis": {
            "gridcolor": "white",
            "linecolor": "white",
            "ticks": ""
           }
          },
          "scene": {
           "xaxis": {
            "backgroundcolor": "#E5ECF6",
            "gridcolor": "white",
            "gridwidth": 2,
            "linecolor": "white",
            "showbackground": true,
            "ticks": "",
            "zerolinecolor": "white"
           },
           "yaxis": {
            "backgroundcolor": "#E5ECF6",
            "gridcolor": "white",
            "gridwidth": 2,
            "linecolor": "white",
            "showbackground": true,
            "ticks": "",
            "zerolinecolor": "white"
           },
           "zaxis": {
            "backgroundcolor": "#E5ECF6",
            "gridcolor": "white",
            "gridwidth": 2,
            "linecolor": "white",
            "showbackground": true,
            "ticks": "",
            "zerolinecolor": "white"
           }
          },
          "shapedefaults": {
           "line": {
            "color": "#2a3f5f"
           }
          },
          "ternary": {
           "aaxis": {
            "gridcolor": "white",
            "linecolor": "white",
            "ticks": ""
           },
           "baxis": {
            "gridcolor": "white",
            "linecolor": "white",
            "ticks": ""
           },
           "bgcolor": "#E5ECF6",
           "caxis": {
            "gridcolor": "white",
            "linecolor": "white",
            "ticks": ""
           }
          },
          "title": {
           "x": 0.05
          },
          "xaxis": {
           "automargin": true,
           "gridcolor": "white",
           "linecolor": "white",
           "ticks": "",
           "title": {
            "standoff": 15
           },
           "zerolinecolor": "white",
           "zerolinewidth": 2
          },
          "yaxis": {
           "automargin": true,
           "gridcolor": "white",
           "linecolor": "white",
           "ticks": "",
           "title": {
            "standoff": 15
           },
           "zerolinecolor": "white",
           "zerolinewidth": 2
          }
         }
        },
        "xaxis": {
         "anchor": "y",
         "domain": [
          0,
          1
         ],
         "title": {
          "text": "Region"
         }
        },
        "yaxis": {
         "anchor": "x",
         "domain": [
          0,
          1
         ],
         "title": {
          "text": "Time to Activation"
         }
        }
       }
      }
     },
     "metadata": {},
     "output_type": "display_data"
    }
   ],
   "source": [
    "px.bar(time_df, x=\"Region\", y=\"Time to Activation\")"
   ]
  },
  {
   "cell_type": "code",
   "execution_count": null,
   "id": "5ef0c567",
   "metadata": {},
   "outputs": [],
   "source": []
  }
 ],
 "metadata": {
  "kernelspec": {
   "display_name": "Python 3",
   "language": "python",
   "name": "python3"
  },
  "language_info": {
   "codemirror_mode": {
    "name": "ipython",
    "version": 3
   },
   "file_extension": ".py",
   "mimetype": "text/x-python",
   "name": "python",
   "nbconvert_exporter": "python",
   "pygments_lexer": "ipython3",
   "version": "3.13.0"
  }
 },
 "nbformat": 4,
 "nbformat_minor": 5
}
